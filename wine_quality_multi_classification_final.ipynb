{
  "nbformat": 4,
  "nbformat_minor": 0,
  "metadata": {
    "colab": {
      "name": "wine-quality-multi-classification.ipynb",
      "provenance": [],
      "collapsed_sections": [],
      "toc_visible": true
    },
    "kernelspec": {
      "name": "python3",
      "display_name": "Python 3"
    }
  },
  "cells": [
    {
      "cell_type": "markdown",
      "metadata": {
        "id": "VWmi1zEYihhH"
      },
      "source": [
        "# Multi-Label Wine Quality Classification\n",
        "\n",
        "\n",
        "---\n",
        "\n",
        "\n",
        "\n",
        "\n",
        "\n"
      ]
    },
    {
      "cell_type": "code",
      "metadata": {
        "id": "rZKYQoLzFIgr",
        "colab": {
          "base_uri": "https://localhost:8080/"
        },
        "outputId": "91b80b27-70d5-4f35-d048-a82ad2dc632a"
      },
      "source": [
        "from google.colab import drive\n",
        "drive.mount('/content/drive')"
      ],
      "execution_count": 1,
      "outputs": [
        {
          "output_type": "stream",
          "text": [
            "Drive already mounted at /content/drive; to attempt to forcibly remount, call drive.mount(\"/content/drive\", force_remount=True).\n"
          ],
          "name": "stdout"
        }
      ]
    },
    {
      "cell_type": "markdown",
      "metadata": {
        "id": "jtXxFyjXoicP"
      },
      "source": [
        "## Context & Workflow in Mind\n",
        "The dataset is pulled through Kaggle API. The dataset is related to red variants of the Portuguese \"Vinho Verde\" wine. For more details, consult the reference [Cortez et al., 2009]."
      ]
    },
    {
      "cell_type": "markdown",
      "metadata": {
        "id": "pP_f_wGxoYCn"
      },
      "source": [
        "### **Tools & Models**\n",
        "\n",
        "\n",
        "**The plan** is to use the dataset to train some multi-label classification models using different ML models and compare their: \n",
        "\n",
        "*   Logistic regression\n",
        "*   SVM\n",
        "*   Kernel SVM (Poly)\n",
        "*   K-NN\n",
        "\n"
      ]
    },
    {
      "cell_type": "markdown",
      "metadata": {
        "id": "q62uTGBBotA9"
      },
      "source": [
        "### **Workflow**\n",
        "\n",
        "*   Import libraries & data\n",
        "*   Exploratory analysis & Data visualization\n",
        "*   Data preprocessing\n",
        "*   Rapid prototyping (train on quickly preprocessed raw data)\n",
        "*   Feature engineering\n",
        "*   Iterate for better performance (metric: precision/recall & F score)"
      ]
    },
    {
      "cell_type": "markdown",
      "metadata": {
        "id": "J2NAE4Uhp-hs"
      },
      "source": [
        "## Import Libararies"
      ]
    },
    {
      "cell_type": "code",
      "metadata": {
        "id": "CtxQvsGliVcA",
        "colab": {
          "base_uri": "https://localhost:8080/"
        },
        "outputId": "df4bea51-6890-4098-da19-90d8b4824823"
      },
      "source": [
        "import numpy as np\n",
        "import pandas as pd\n",
        "import seaborn as sns\n",
        "import matplotlib.pyplot as plt\n",
        "from sklearn.model_selection import train_test_split\n",
        "\n",
        "# oversampling\n",
        "from sklearn.utils import resample\n",
        "from imblearn.over_sampling import SMOTE\n",
        "\n",
        "from sklearn.feature_selection import  SelectKBest\n",
        "from sklearn.feature_selection import  chi2\n",
        "\n",
        "from sklearn.preprocessing import StandardScaler\n",
        "from sklearn.linear_model import LogisticRegression\n",
        "from sklearn.svm import LinearSVC\n",
        "from sklearn.svm import SVC\n",
        "from sklearn.neighbors import KNeighborsClassifier\n",
        "from sklearn.metrics import classification_report\n",
        "%matplotlib inline\n",
        "import warnings\n",
        "warnings.filterwarnings('ignore')\n"
      ],
      "execution_count": 2,
      "outputs": [
        {
          "output_type": "stream",
          "text": [
            "/usr/local/lib/python3.6/dist-packages/sklearn/externals/six.py:31: FutureWarning: The module is deprecated in version 0.21 and will be removed in version 0.23 since we've dropped support for Python 2.7. Please rely on the official version of six (https://pypi.org/project/six/).\n",
            "  \"(https://pypi.org/project/six/).\", FutureWarning)\n",
            "/usr/local/lib/python3.6/dist-packages/sklearn/utils/deprecation.py:144: FutureWarning: The sklearn.neighbors.base module is  deprecated in version 0.22 and will be removed in version 0.24. The corresponding classes / functions should instead be imported from sklearn.neighbors. Anything that cannot be imported from sklearn.neighbors is now part of the private API.\n",
            "  warnings.warn(message, FutureWarning)\n"
          ],
          "name": "stderr"
        }
      ]
    },
    {
      "cell_type": "code",
      "metadata": {
        "id": "IGUv65B2a2Pc",
        "colab": {
          "base_uri": "https://localhost:8080/"
        },
        "outputId": "a9a60756-f667-429c-a63d-349aa4ce6533"
      },
      "source": [
        "import tensorflow as tf\r\n",
        "from tensorflow import  keras\r\n",
        "from tensorflow.keras import layers\r\n",
        "print(tf.__version__)"
      ],
      "execution_count": 3,
      "outputs": [
        {
          "output_type": "stream",
          "text": [
            "2.4.0\n"
          ],
          "name": "stdout"
        }
      ]
    },
    {
      "cell_type": "markdown",
      "metadata": {
        "id": "FLWdaU7EvEt5"
      },
      "source": [
        "## Importing Dataset"
      ]
    },
    {
      "cell_type": "code",
      "metadata": {
        "id": "diMYh1tMu0JX",
        "colab": {
          "base_uri": "https://localhost:8080/",
          "height": 198
        },
        "outputId": "2cff5237-b37c-407f-9af1-5b32a22edea8"
      },
      "source": [
        "wine_df = pd.read_csv(\"./drive/My Drive/Multi-label Wine Quality Classification/winequality-red.csv\")\n",
        "wine_df.head()"
      ],
      "execution_count": 4,
      "outputs": [
        {
          "output_type": "execute_result",
          "data": {
            "text/html": [
              "<div>\n",
              "<style scoped>\n",
              "    .dataframe tbody tr th:only-of-type {\n",
              "        vertical-align: middle;\n",
              "    }\n",
              "\n",
              "    .dataframe tbody tr th {\n",
              "        vertical-align: top;\n",
              "    }\n",
              "\n",
              "    .dataframe thead th {\n",
              "        text-align: right;\n",
              "    }\n",
              "</style>\n",
              "<table border=\"1\" class=\"dataframe\">\n",
              "  <thead>\n",
              "    <tr style=\"text-align: right;\">\n",
              "      <th></th>\n",
              "      <th>fixed acidity</th>\n",
              "      <th>volatile acidity</th>\n",
              "      <th>citric acid</th>\n",
              "      <th>residual sugar</th>\n",
              "      <th>chlorides</th>\n",
              "      <th>free sulfur dioxide</th>\n",
              "      <th>total sulfur dioxide</th>\n",
              "      <th>density</th>\n",
              "      <th>pH</th>\n",
              "      <th>sulphates</th>\n",
              "      <th>alcohol</th>\n",
              "      <th>quality</th>\n",
              "    </tr>\n",
              "  </thead>\n",
              "  <tbody>\n",
              "    <tr>\n",
              "      <th>0</th>\n",
              "      <td>7.4</td>\n",
              "      <td>0.70</td>\n",
              "      <td>0.00</td>\n",
              "      <td>1.9</td>\n",
              "      <td>0.076</td>\n",
              "      <td>11.0</td>\n",
              "      <td>34.0</td>\n",
              "      <td>0.9978</td>\n",
              "      <td>3.51</td>\n",
              "      <td>0.56</td>\n",
              "      <td>9.4</td>\n",
              "      <td>5</td>\n",
              "    </tr>\n",
              "    <tr>\n",
              "      <th>1</th>\n",
              "      <td>7.8</td>\n",
              "      <td>0.88</td>\n",
              "      <td>0.00</td>\n",
              "      <td>2.6</td>\n",
              "      <td>0.098</td>\n",
              "      <td>25.0</td>\n",
              "      <td>67.0</td>\n",
              "      <td>0.9968</td>\n",
              "      <td>3.20</td>\n",
              "      <td>0.68</td>\n",
              "      <td>9.8</td>\n",
              "      <td>5</td>\n",
              "    </tr>\n",
              "    <tr>\n",
              "      <th>2</th>\n",
              "      <td>7.8</td>\n",
              "      <td>0.76</td>\n",
              "      <td>0.04</td>\n",
              "      <td>2.3</td>\n",
              "      <td>0.092</td>\n",
              "      <td>15.0</td>\n",
              "      <td>54.0</td>\n",
              "      <td>0.9970</td>\n",
              "      <td>3.26</td>\n",
              "      <td>0.65</td>\n",
              "      <td>9.8</td>\n",
              "      <td>5</td>\n",
              "    </tr>\n",
              "    <tr>\n",
              "      <th>3</th>\n",
              "      <td>11.2</td>\n",
              "      <td>0.28</td>\n",
              "      <td>0.56</td>\n",
              "      <td>1.9</td>\n",
              "      <td>0.075</td>\n",
              "      <td>17.0</td>\n",
              "      <td>60.0</td>\n",
              "      <td>0.9980</td>\n",
              "      <td>3.16</td>\n",
              "      <td>0.58</td>\n",
              "      <td>9.8</td>\n",
              "      <td>6</td>\n",
              "    </tr>\n",
              "    <tr>\n",
              "      <th>4</th>\n",
              "      <td>7.4</td>\n",
              "      <td>0.70</td>\n",
              "      <td>0.00</td>\n",
              "      <td>1.9</td>\n",
              "      <td>0.076</td>\n",
              "      <td>11.0</td>\n",
              "      <td>34.0</td>\n",
              "      <td>0.9978</td>\n",
              "      <td>3.51</td>\n",
              "      <td>0.56</td>\n",
              "      <td>9.4</td>\n",
              "      <td>5</td>\n",
              "    </tr>\n",
              "  </tbody>\n",
              "</table>\n",
              "</div>"
            ],
            "text/plain": [
              "   fixed acidity  volatile acidity  citric acid  ...  sulphates  alcohol  quality\n",
              "0            7.4              0.70         0.00  ...       0.56      9.4        5\n",
              "1            7.8              0.88         0.00  ...       0.68      9.8        5\n",
              "2            7.8              0.76         0.04  ...       0.65      9.8        5\n",
              "3           11.2              0.28         0.56  ...       0.58      9.8        6\n",
              "4            7.4              0.70         0.00  ...       0.56      9.4        5\n",
              "\n",
              "[5 rows x 12 columns]"
            ]
          },
          "metadata": {
            "tags": []
          },
          "execution_count": 4
        }
      ]
    },
    {
      "cell_type": "code",
      "metadata": {
        "id": "0r8kOyPpY30q",
        "colab": {
          "base_uri": "https://localhost:8080/",
          "height": 408
        },
        "outputId": "814b725a-3acc-49f5-909f-adcfaf41c1ae"
      },
      "source": [
        "wine_df.describe().transpose()"
      ],
      "execution_count": 5,
      "outputs": [
        {
          "output_type": "execute_result",
          "data": {
            "text/html": [
              "<div>\n",
              "<style scoped>\n",
              "    .dataframe tbody tr th:only-of-type {\n",
              "        vertical-align: middle;\n",
              "    }\n",
              "\n",
              "    .dataframe tbody tr th {\n",
              "        vertical-align: top;\n",
              "    }\n",
              "\n",
              "    .dataframe thead th {\n",
              "        text-align: right;\n",
              "    }\n",
              "</style>\n",
              "<table border=\"1\" class=\"dataframe\">\n",
              "  <thead>\n",
              "    <tr style=\"text-align: right;\">\n",
              "      <th></th>\n",
              "      <th>count</th>\n",
              "      <th>mean</th>\n",
              "      <th>std</th>\n",
              "      <th>min</th>\n",
              "      <th>25%</th>\n",
              "      <th>50%</th>\n",
              "      <th>75%</th>\n",
              "      <th>max</th>\n",
              "    </tr>\n",
              "  </thead>\n",
              "  <tbody>\n",
              "    <tr>\n",
              "      <th>fixed acidity</th>\n",
              "      <td>1599.0</td>\n",
              "      <td>8.319637</td>\n",
              "      <td>1.741096</td>\n",
              "      <td>4.60000</td>\n",
              "      <td>7.1000</td>\n",
              "      <td>7.90000</td>\n",
              "      <td>9.200000</td>\n",
              "      <td>15.90000</td>\n",
              "    </tr>\n",
              "    <tr>\n",
              "      <th>volatile acidity</th>\n",
              "      <td>1599.0</td>\n",
              "      <td>0.527821</td>\n",
              "      <td>0.179060</td>\n",
              "      <td>0.12000</td>\n",
              "      <td>0.3900</td>\n",
              "      <td>0.52000</td>\n",
              "      <td>0.640000</td>\n",
              "      <td>1.58000</td>\n",
              "    </tr>\n",
              "    <tr>\n",
              "      <th>citric acid</th>\n",
              "      <td>1599.0</td>\n",
              "      <td>0.270976</td>\n",
              "      <td>0.194801</td>\n",
              "      <td>0.00000</td>\n",
              "      <td>0.0900</td>\n",
              "      <td>0.26000</td>\n",
              "      <td>0.420000</td>\n",
              "      <td>1.00000</td>\n",
              "    </tr>\n",
              "    <tr>\n",
              "      <th>residual sugar</th>\n",
              "      <td>1599.0</td>\n",
              "      <td>2.538806</td>\n",
              "      <td>1.409928</td>\n",
              "      <td>0.90000</td>\n",
              "      <td>1.9000</td>\n",
              "      <td>2.20000</td>\n",
              "      <td>2.600000</td>\n",
              "      <td>15.50000</td>\n",
              "    </tr>\n",
              "    <tr>\n",
              "      <th>chlorides</th>\n",
              "      <td>1599.0</td>\n",
              "      <td>0.087467</td>\n",
              "      <td>0.047065</td>\n",
              "      <td>0.01200</td>\n",
              "      <td>0.0700</td>\n",
              "      <td>0.07900</td>\n",
              "      <td>0.090000</td>\n",
              "      <td>0.61100</td>\n",
              "    </tr>\n",
              "    <tr>\n",
              "      <th>free sulfur dioxide</th>\n",
              "      <td>1599.0</td>\n",
              "      <td>15.874922</td>\n",
              "      <td>10.460157</td>\n",
              "      <td>1.00000</td>\n",
              "      <td>7.0000</td>\n",
              "      <td>14.00000</td>\n",
              "      <td>21.000000</td>\n",
              "      <td>72.00000</td>\n",
              "    </tr>\n",
              "    <tr>\n",
              "      <th>total sulfur dioxide</th>\n",
              "      <td>1599.0</td>\n",
              "      <td>46.467792</td>\n",
              "      <td>32.895324</td>\n",
              "      <td>6.00000</td>\n",
              "      <td>22.0000</td>\n",
              "      <td>38.00000</td>\n",
              "      <td>62.000000</td>\n",
              "      <td>289.00000</td>\n",
              "    </tr>\n",
              "    <tr>\n",
              "      <th>density</th>\n",
              "      <td>1599.0</td>\n",
              "      <td>0.996747</td>\n",
              "      <td>0.001887</td>\n",
              "      <td>0.99007</td>\n",
              "      <td>0.9956</td>\n",
              "      <td>0.99675</td>\n",
              "      <td>0.997835</td>\n",
              "      <td>1.00369</td>\n",
              "    </tr>\n",
              "    <tr>\n",
              "      <th>pH</th>\n",
              "      <td>1599.0</td>\n",
              "      <td>3.311113</td>\n",
              "      <td>0.154386</td>\n",
              "      <td>2.74000</td>\n",
              "      <td>3.2100</td>\n",
              "      <td>3.31000</td>\n",
              "      <td>3.400000</td>\n",
              "      <td>4.01000</td>\n",
              "    </tr>\n",
              "    <tr>\n",
              "      <th>sulphates</th>\n",
              "      <td>1599.0</td>\n",
              "      <td>0.658149</td>\n",
              "      <td>0.169507</td>\n",
              "      <td>0.33000</td>\n",
              "      <td>0.5500</td>\n",
              "      <td>0.62000</td>\n",
              "      <td>0.730000</td>\n",
              "      <td>2.00000</td>\n",
              "    </tr>\n",
              "    <tr>\n",
              "      <th>alcohol</th>\n",
              "      <td>1599.0</td>\n",
              "      <td>10.422983</td>\n",
              "      <td>1.065668</td>\n",
              "      <td>8.40000</td>\n",
              "      <td>9.5000</td>\n",
              "      <td>10.20000</td>\n",
              "      <td>11.100000</td>\n",
              "      <td>14.90000</td>\n",
              "    </tr>\n",
              "    <tr>\n",
              "      <th>quality</th>\n",
              "      <td>1599.0</td>\n",
              "      <td>5.636023</td>\n",
              "      <td>0.807569</td>\n",
              "      <td>3.00000</td>\n",
              "      <td>5.0000</td>\n",
              "      <td>6.00000</td>\n",
              "      <td>6.000000</td>\n",
              "      <td>8.00000</td>\n",
              "    </tr>\n",
              "  </tbody>\n",
              "</table>\n",
              "</div>"
            ],
            "text/plain": [
              "                       count       mean  ...        75%        max\n",
              "fixed acidity         1599.0   8.319637  ...   9.200000   15.90000\n",
              "volatile acidity      1599.0   0.527821  ...   0.640000    1.58000\n",
              "citric acid           1599.0   0.270976  ...   0.420000    1.00000\n",
              "residual sugar        1599.0   2.538806  ...   2.600000   15.50000\n",
              "chlorides             1599.0   0.087467  ...   0.090000    0.61100\n",
              "free sulfur dioxide   1599.0  15.874922  ...  21.000000   72.00000\n",
              "total sulfur dioxide  1599.0  46.467792  ...  62.000000  289.00000\n",
              "density               1599.0   0.996747  ...   0.997835    1.00369\n",
              "pH                    1599.0   3.311113  ...   3.400000    4.01000\n",
              "sulphates             1599.0   0.658149  ...   0.730000    2.00000\n",
              "alcohol               1599.0  10.422983  ...  11.100000   14.90000\n",
              "quality               1599.0   5.636023  ...   6.000000    8.00000\n",
              "\n",
              "[12 rows x 8 columns]"
            ]
          },
          "metadata": {
            "tags": []
          },
          "execution_count": 5
        }
      ]
    },
    {
      "cell_type": "code",
      "metadata": {
        "id": "cbBPK0VThCd4",
        "colab": {
          "base_uri": "https://localhost:8080/"
        },
        "outputId": "661151cb-227f-4d98-d41a-01e5a5fda44f"
      },
      "source": [
        "wine_df.info()"
      ],
      "execution_count": 6,
      "outputs": [
        {
          "output_type": "stream",
          "text": [
            "<class 'pandas.core.frame.DataFrame'>\n",
            "RangeIndex: 1599 entries, 0 to 1598\n",
            "Data columns (total 12 columns):\n",
            " #   Column                Non-Null Count  Dtype  \n",
            "---  ------                --------------  -----  \n",
            " 0   fixed acidity         1599 non-null   float64\n",
            " 1   volatile acidity      1599 non-null   float64\n",
            " 2   citric acid           1599 non-null   float64\n",
            " 3   residual sugar        1599 non-null   float64\n",
            " 4   chlorides             1599 non-null   float64\n",
            " 5   free sulfur dioxide   1599 non-null   float64\n",
            " 6   total sulfur dioxide  1599 non-null   float64\n",
            " 7   density               1599 non-null   float64\n",
            " 8   pH                    1599 non-null   float64\n",
            " 9   sulphates             1599 non-null   float64\n",
            " 10  alcohol               1599 non-null   float64\n",
            " 11  quality               1599 non-null   int64  \n",
            "dtypes: float64(11), int64(1)\n",
            "memory usage: 150.0 KB\n"
          ],
          "name": "stdout"
        }
      ]
    },
    {
      "cell_type": "markdown",
      "metadata": {
        "id": "7IQNmsSuqMdi"
      },
      "source": [
        "## Exploratory Analysis & Data Visualizations"
      ]
    },
    {
      "cell_type": "markdown",
      "metadata": {
        "id": "NaPcJbKCJ37m"
      },
      "source": [
        "### Skewed Classes"
      ]
    },
    {
      "cell_type": "code",
      "metadata": {
        "id": "9ZeX2EeRy3Yc",
        "colab": {
          "base_uri": "https://localhost:8080/",
          "height": 400
        },
        "outputId": "7cfb8a3a-9cd7-43e3-9b3b-914d9bda2585"
      },
      "source": [
        "# Visualize the categorical labels first\n",
        "sns.set(style=\"ticks\", color_codes=True)\n",
        "\n",
        "sns.catplot(x=\"quality\", kind=\"count\", palette=\"ch:.25\", data=wine_df);\n",
        "plt.xlabel('wine quality')"
      ],
      "execution_count": 7,
      "outputs": [
        {
          "output_type": "execute_result",
          "data": {
            "text/plain": [
              "Text(0.5, 8.95999999999998, 'wine quality')"
            ]
          },
          "metadata": {
            "tags": []
          },
          "execution_count": 7
        },
        {
          "output_type": "display_data",
          "data": {
            "image/png": "[encoded data removed]",
            "text/plain": [
              "<Figure size 360x360 with 1 Axes>"
            ]
          },
          "metadata": {
            "tags": []
          }
        }
      ]
    },
    {
      "cell_type": "code",
      "metadata": {
        "id": "tCpUYj7LdKRL",
        "colab": {
          "base_uri": "https://localhost:8080/"
        },
        "outputId": "0adca383-9ffd-4654-e476-eac7353de0d6"
      },
      "source": [
        "wine_df['quality'].value_counts()"
      ],
      "execution_count": 8,
      "outputs": [
        {
          "output_type": "execute_result",
          "data": {
            "text/plain": [
              "5    681\n",
              "6    638\n",
              "7    199\n",
              "4     53\n",
              "8     18\n",
              "3     10\n",
              "Name: quality, dtype: int64"
            ]
          },
          "metadata": {
            "tags": []
          },
          "execution_count": 8
        }
      ]
    },
    {
      "cell_type": "markdown",
      "metadata": {
        "id": "yRyeZ3iX6MZR"
      },
      "source": [
        "Note that the classes are pretty unenvenly distributed. There are much more normal wines than excellent or poor ones (Need to research more on how to deal with situation). In general seems we got 6 categaories in here from grading 3 - 8."
      ]
    },
    {
      "cell_type": "markdown",
      "metadata": {
        "id": "TEOg-rixJz9p"
      },
      "source": [
        "### Correlation Analysis"
      ]
    },
    {
      "cell_type": "code",
      "metadata": {
        "id": "C-n3hUUzy3dL",
        "colab": {
          "base_uri": "https://localhost:8080/",
          "height": 430
        },
        "outputId": "d27ff9ed-47c9-4c62-e927-1126e5ec1198"
      },
      "source": [
        "corr = wine_df.corr(method = 'pearson')\n",
        "f, ax = plt.subplots(figsize=(6, 5))\n",
        "cmap = sns.diverging_palette(10, 275, as_cmap=True)\n",
        "\n",
        "sns.heatmap(corr, cmap=cmap, square=True,\n",
        "            linewidths=0.5, cbar_kws={\"shrink\": 0.5}, ax=ax)"
      ],
      "execution_count": 9,
      "outputs": [
        {
          "output_type": "execute_result",
          "data": {
            "text/plain": [
              "<matplotlib.axes._subplots.AxesSubplot at 0x7f9d6bf70518>"
            ]
          },
          "metadata": {
            "tags": []
          },
          "execution_count": 9
        },
        {
          "output_type": "display_data",
          "data": {
            "image/png": "[encoded data removed]",
            "text/plain": [
              "<Figure size 432x360 with 2 Axes>"
            ]
          },
          "metadata": {
            "tags": []
          }
        }
      ]
    },
    {
      "cell_type": "markdown",
      "metadata": {
        "id": "4zXMUm3naSLj"
      },
      "source": [
        "Seems PH and fixed acidity, citric acid and PH/volatile acidity have high negtive correlation. Later we can consider to combine these features by apply principal component analysis (PCA). However, for now let's get something quick and dirty working first. However it may be helpful to plot the xy scattet plots for better visualization of the correlations between different features."
      ]
    },
    {
      "cell_type": "markdown",
      "metadata": {
        "id": "y2sVcp9iMf8b"
      },
      "source": [
        "### Plotting Features w.r.t. Labels (Wine Quality)"
      ]
    },
    {
      "cell_type": "markdown",
      "metadata": {
        "id": "4IPabDCFmwDy"
      },
      "source": [
        "A bar plot represents an estimate of central tendency for a numeric variable with the height of each rectangle and provides some indication of the uncertainty around that estimate using error bars."
      ]
    },
    {
      "cell_type": "code",
      "metadata": {
        "id": "Sd4rA3c3P6XT",
        "colab": {
          "base_uri": "https://localhost:8080/",
          "height": 498
        },
        "outputId": "0a34a955-17cd-4287-9bf5-d43d57202906"
      },
      "source": [
        "# Creating a 2 x 5 subplot grid\n",
        "figure, axes = plt.subplots(nrows=2, ncols=5, figsize=(20,7))\n",
        "figure.suptitle(\"Plotting Features w.r.t. Labels\")\n",
        "# wspace: the amount of width reserved for space between subplots, expressed as a fraction of the average axis width\n",
        "# hspace; the amount of height reserved for space between subplots, expressed as a fraction of the average axis height\n",
        "figure.subplots_adjust(hspace=0.4, wspace= 0.4)\n",
        "\n",
        "# Using for loop to interate through different features and plot its barplot against wine \"quality\" feature (categorical data)\n",
        "for i in range(2):\n",
        "  for j in range(5):\n",
        "    sns.barplot(ax=axes[i,j], x='quality', y=wine_df.columns[i*5 + j], data = wine_df)\n"
      ],
      "execution_count": 10,
      "outputs": [
        {
          "output_type": "display_data",
          "data": {
            "image/png": "[encoded data removed]",
            "text/plain": [
              "<Figure size 1440x504 with 10 Axes>"
            ]
          },
          "metadata": {
            "tags": []
          }
        }
      ]
    },
    {
      "cell_type": "markdown",
      "metadata": {
        "id": "HzyPqOMCp-52"
      },
      "source": [
        "From the barplots above we see features like \"fixed acidity\", \"residual sugar\", \"density\", \"PH\" have almost no effect on predicting the quality of wine. We'll take out feature \"density\" in here since it does not have any correlation wrt wine quality."
      ]
    },
    {
      "cell_type": "markdown",
      "metadata": {
        "id": "bkZTlat0qRv8"
      },
      "source": [
        "## Data Preprocessing"
      ]
    },
    {
      "cell_type": "code",
      "metadata": {
        "colab": {
          "base_uri": "https://localhost:8080/"
        },
        "id": "_5-c1neaOvcR",
        "outputId": "1bbb4b10-2024-4ff2-a61c-466cb0b3a99d"
      },
      "source": [
        "X = wine_df.iloc[:, :-1]\r\n",
        "y = wine_df.iloc[:, -1]\r\n",
        "print(\"the dimension of X training examples is:\" + str(X.shape) + \"\\n the dimension of y training examples is:\" + str(y.shape))\r\n",
        "# map wine quality from [3,8] to [0, 6) to match the tensor output later defined\r\n",
        "y = y - 3\r\n"
      ],
      "execution_count": 11,
      "outputs": [
        {
          "output_type": "stream",
          "text": [
            "the dimension of X training examples is:(1599, 11)\n",
            " the dimension of y training examples is:(1599,)\n"
          ],
          "name": "stdout"
        }
      ]
    },
    {
      "cell_type": "markdown",
      "metadata": {
        "id": "86yxDB5sKY_t"
      },
      "source": [
        "### Feature Seletion (Univarite selection)"
      ]
    },
    {
      "cell_type": "code",
      "metadata": {
        "colab": {
          "base_uri": "https://localhost:8080/"
        },
        "id": "fHK2Atl0KkHi",
        "outputId": "9f3dadb4-542a-4be1-d612-ad5f30050bf6"
      },
      "source": [
        "from sklearn.feature_selection import  SelectKBest\r\n",
        "from sklearn.feature_selection import  chi2\r\n",
        "\r\n",
        "#apply SelectKBest class to extract top 10 best features\r\n",
        "best_features = SelectKBest(score_func = chi2, k = 10)\r\n",
        "fit = best_features.fit(X, y)\r\n",
        "dfscores = pd.DataFrame(fit.scores_)\r\n",
        "dfcolumns = pd.DataFrame(X.columns)\r\n",
        "#concat two dataframes for better visualization \r\n",
        "featureScores = pd.concat([dfcolumns,dfscores],axis=1)\r\n",
        "featureScores.columns = ['Specs','Score']  #naming the dataframe columns\r\n",
        "print(featureScores.nlargest(10,'Score'))  #print 10 best features"
      ],
      "execution_count": 12,
      "outputs": [
        {
          "output_type": "stream",
          "text": [
            "                   Specs        Score\n",
            "6   total sulfur dioxide  2755.557984\n",
            "5    free sulfur dioxide   161.936036\n",
            "10               alcohol    46.429892\n",
            "1       volatile acidity    15.580289\n",
            "2            citric acid    13.025665\n",
            "0          fixed acidity    11.260652\n",
            "9              sulphates     4.558488\n",
            "3         residual sugar     4.123295\n",
            "4              chlorides     0.752426\n",
            "8                     pH     0.154655\n"
          ],
          "name": "stdout"
        }
      ]
    },
    {
      "cell_type": "markdown",
      "metadata": {
        "id": "Xwg9NHMX-YHh"
      },
      "source": [
        "### Drop irrelevant features"
      ]
    },
    {
      "cell_type": "markdown",
      "metadata": {
        "id": "J2fzr7-PrDI7"
      },
      "source": [
        "We'll drop \"density\" column as we discussed in the exploratory analysis section and keep the rest data the same. We will also drops 'sulphates', 'residual sugar', 'chlorides', 'pH' which scored less than 10"
      ]
    },
    {
      "cell_type": "code",
      "metadata": {
        "id": "_l47bN0kre43"
      },
      "source": [
        "# wine_df = wine_df.drop(labels=['density','sulphates', 'residual sugar', 'chlorides', 'pH'], axis=1)\n",
        "# wine_df.head()"
      ],
      "execution_count": 13,
      "outputs": []
    },
    {
      "cell_type": "markdown",
      "metadata": {
        "id": "sE-lCT9uKeoW"
      },
      "source": [
        "Initial thought was one-hot encode wine quality and train 6 binary classification models to apply one vs. all. However, sklearn has the parameter in their classification fit methods that allows categorical multi-label classes. Let them do the work then."
      ]
    },
    {
      "cell_type": "markdown",
      "metadata": {
        "id": "2EeCndG0nNQ0"
      },
      "source": [
        "### Splitting into Training/Test Sets"
      ]
    },
    {
      "cell_type": "markdown",
      "metadata": {
        "id": "fY9FCXjBugKN"
      },
      "source": [
        ""
      ]
    },
    {
      "cell_type": "code",
      "metadata": {
        "id": "PJeqg3Jblrd7",
        "colab": {
          "base_uri": "https://localhost:8080/"
        },
        "outputId": "acce3419-1697-4d3e-9d0d-a4f843566ce5"
      },
      "source": [
        "# Allowed inputs are lists, numpy arrays, scipy-sparse matrices or pandas dataframes\n",
        "X_train, X_test, y_train, y_test = train_test_split(X, y, test_size = 0.3, random_state = 1)\n",
        "print(\"The shape of splitted X_train set is:\")\n",
        "print(X_train.shape)\n",
        "\n",
        "print(\"The shape of splitted X_test set is:\")\n",
        "print(X_test.shape)\n",
        "print(type(X_train))"
      ],
      "execution_count": 14,
      "outputs": [
        {
          "output_type": "stream",
          "text": [
            "The shape of splitted X_train set is:\n",
            "(1119, 11)\n",
            "The shape of splitted X_test set is:\n",
            "(480, 11)\n",
            "<class 'pandas.core.frame.DataFrame'>\n"
          ],
          "name": "stdout"
        }
      ]
    },
    {
      "cell_type": "code",
      "metadata": {
        "id": "mIj3KDgJ9_WN",
        "colab": {
          "base_uri": "https://localhost:8080/",
          "height": 198
        },
        "outputId": "4aaf194a-de00-408e-e728-70a03da131ca"
      },
      "source": [
        "# Note the training samples (random indices) were randomly selected\n",
        "X_train.head()"
      ],
      "execution_count": 15,
      "outputs": [
        {
          "output_type": "execute_result",
          "data": {
            "text/html": [
              "<div>\n",
              "<style scoped>\n",
              "    .dataframe tbody tr th:only-of-type {\n",
              "        vertical-align: middle;\n",
              "    }\n",
              "\n",
              "    .dataframe tbody tr th {\n",
              "        vertical-align: top;\n",
              "    }\n",
              "\n",
              "    .dataframe thead th {\n",
              "        text-align: right;\n",
              "    }\n",
              "</style>\n",
              "<table border=\"1\" class=\"dataframe\">\n",
              "  <thead>\n",
              "    <tr style=\"text-align: right;\">\n",
              "      <th></th>\n",
              "      <th>fixed acidity</th>\n",
              "      <th>volatile acidity</th>\n",
              "      <th>citric acid</th>\n",
              "      <th>residual sugar</th>\n",
              "      <th>chlorides</th>\n",
              "      <th>free sulfur dioxide</th>\n",
              "      <th>total sulfur dioxide</th>\n",
              "      <th>density</th>\n",
              "      <th>pH</th>\n",
              "      <th>sulphates</th>\n",
              "      <th>alcohol</th>\n",
              "    </tr>\n",
              "  </thead>\n",
              "  <tbody>\n",
              "    <tr>\n",
              "      <th>126</th>\n",
              "      <td>8.2</td>\n",
              "      <td>1.330</td>\n",
              "      <td>0.00</td>\n",
              "      <td>1.7</td>\n",
              "      <td>0.081</td>\n",
              "      <td>3.0</td>\n",
              "      <td>12.0</td>\n",
              "      <td>0.99640</td>\n",
              "      <td>3.53</td>\n",
              "      <td>0.49</td>\n",
              "      <td>10.9</td>\n",
              "    </tr>\n",
              "    <tr>\n",
              "      <th>810</th>\n",
              "      <td>7.3</td>\n",
              "      <td>0.490</td>\n",
              "      <td>0.10</td>\n",
              "      <td>2.6</td>\n",
              "      <td>0.068</td>\n",
              "      <td>4.0</td>\n",
              "      <td>14.0</td>\n",
              "      <td>0.99562</td>\n",
              "      <td>3.30</td>\n",
              "      <td>0.47</td>\n",
              "      <td>10.5</td>\n",
              "    </tr>\n",
              "    <tr>\n",
              "      <th>635</th>\n",
              "      <td>8.7</td>\n",
              "      <td>0.840</td>\n",
              "      <td>0.00</td>\n",
              "      <td>1.4</td>\n",
              "      <td>0.065</td>\n",
              "      <td>24.0</td>\n",
              "      <td>33.0</td>\n",
              "      <td>0.99540</td>\n",
              "      <td>3.27</td>\n",
              "      <td>0.55</td>\n",
              "      <td>9.7</td>\n",
              "    </tr>\n",
              "    <tr>\n",
              "      <th>598</th>\n",
              "      <td>8.5</td>\n",
              "      <td>0.585</td>\n",
              "      <td>0.18</td>\n",
              "      <td>2.1</td>\n",
              "      <td>0.078</td>\n",
              "      <td>5.0</td>\n",
              "      <td>30.0</td>\n",
              "      <td>0.99670</td>\n",
              "      <td>3.20</td>\n",
              "      <td>0.48</td>\n",
              "      <td>9.8</td>\n",
              "    </tr>\n",
              "    <tr>\n",
              "      <th>880</th>\n",
              "      <td>9.2</td>\n",
              "      <td>0.560</td>\n",
              "      <td>0.18</td>\n",
              "      <td>1.6</td>\n",
              "      <td>0.078</td>\n",
              "      <td>10.0</td>\n",
              "      <td>21.0</td>\n",
              "      <td>0.99576</td>\n",
              "      <td>3.15</td>\n",
              "      <td>0.49</td>\n",
              "      <td>9.9</td>\n",
              "    </tr>\n",
              "  </tbody>\n",
              "</table>\n",
              "</div>"
            ],
            "text/plain": [
              "     fixed acidity  volatile acidity  citric acid  ...    pH  sulphates  alcohol\n",
              "126            8.2             1.330         0.00  ...  3.53       0.49     10.9\n",
              "810            7.3             0.490         0.10  ...  3.30       0.47     10.5\n",
              "635            8.7             0.840         0.00  ...  3.27       0.55      9.7\n",
              "598            8.5             0.585         0.18  ...  3.20       0.48      9.8\n",
              "880            9.2             0.560         0.18  ...  3.15       0.49      9.9\n",
              "\n",
              "[5 rows x 11 columns]"
            ]
          },
          "metadata": {
            "tags": []
          },
          "execution_count": 15
        }
      ]
    },
    {
      "cell_type": "markdown",
      "metadata": {
        "id": "NYrpRCS8ca4D"
      },
      "source": [
        "### SMOTE (Synthetic Minortity Oversampling Technique)"
      ]
    },
    {
      "cell_type": "markdown",
      "metadata": {
        "id": "cE0aid00c7aJ"
      },
      "source": [
        "SMOTE works by utilizing a k-nearest neighbor algorithm to create synthetic data. SMOTE first start by choosing random data from the minority class, then k-nearest neighbors from the data are set. Synthetic data would then made between the random data and the randomly selected k-nearest neighbor. Note we only oversampling the minority classes on our training set, not test set."
      ]
    },
    {
      "cell_type": "code",
      "metadata": {
        "id": "us4qC0n_f6Qg",
        "colab": {
          "base_uri": "https://localhost:8080/"
        },
        "outputId": "4e8214fc-a7ce-442e-c8db-be8ab463012a"
      },
      "source": [
        "# Our goal to is oversample wine quality 3,4,6,7,8 to have the same samples as the most common wine quality (label) 5 i.e. 456 samples\n",
        "unique_elements, counts_elements = np.unique(y_train, return_counts=True)\n",
        "print(\"Frequency of unique values of the wine quality array:\")\n",
        "y_train.value_counts()"
      ],
      "execution_count": 16,
      "outputs": [
        {
          "output_type": "stream",
          "text": [
            "Frequency of unique values of the wine quality array:\n"
          ],
          "name": "stdout"
        },
        {
          "output_type": "execute_result",
          "data": {
            "text/plain": [
              "2    474\n",
              "3    443\n",
              "4    147\n",
              "1     32\n",
              "5     15\n",
              "0      8\n",
              "Name: quality, dtype: int64"
            ]
          },
          "metadata": {
            "tags": []
          },
          "execution_count": 16
        }
      ]
    },
    {
      "cell_type": "code",
      "metadata": {
        "id": "B3pMJpD-MC-f",
        "colab": {
          "base_uri": "https://localhost:8080/"
        },
        "outputId": "d5224518-4d59-44da-e3b2-8c5477c0ebea"
      },
      "source": [
        "# oversampling the training data not test data\r\n",
        "smote = SMOTE(random_state=1)\r\n",
        "print(X_train.shape, ' ', y_train.shape)\r\n",
        "features = wine_df.columns.to_list()[:-1]\r\n",
        "print(features)\r\n",
        "\r\n",
        "X_train, y_train = smote.fit_resample(wine_df[features], wine_df['quality'] - 3)\r\n",
        "print('\\nX_train after oversampleing')\r\n",
        "print(X_train.shape, ' ', y_train.shape)\r\n"
      ],
      "execution_count": 17,
      "outputs": [
        {
          "output_type": "stream",
          "text": [
            "(1119, 11)   (1119,)\n",
            "['fixed acidity', 'volatile acidity', 'citric acid', 'residual sugar', 'chlorides', 'free sulfur dioxide', 'total sulfur dioxide', 'density', 'pH', 'sulphates', 'alcohol']\n",
            "\n",
            "X_train after oversampleing\n",
            "(4086, 11)   (4086,)\n"
          ],
          "name": "stdout"
        }
      ]
    },
    {
      "cell_type": "code",
      "metadata": {
        "colab": {
          "base_uri": "https://localhost:8080/"
        },
        "id": "prver7PmPrKr",
        "outputId": "e47c6f0b-1a59-4b93-b88c-24e69c32990f"
      },
      "source": [
        "unique, counts = np.unique(y_train, return_counts=True)\r\n",
        "freq = dict(zip(unique, counts))\r\n",
        "print (\"Frequency of wine quality after oversampling with SMOTE:\")\r\n",
        "for key, value in freq.items():\r\n",
        "    print(f'{key}  {value}')"
      ],
      "execution_count": 18,
      "outputs": [
        {
          "output_type": "stream",
          "text": [
            "Frequency of wine quality after oversampling with SMOTE:\n",
            "0  681\n",
            "1  681\n",
            "2  681\n",
            "3  681\n",
            "4  681\n",
            "5  681\n"
          ],
          "name": "stdout"
        }
      ]
    },
    {
      "cell_type": "markdown",
      "metadata": {
        "id": "bxJpa7W3lxnf"
      },
      "source": [
        "### Feature Scaling"
      ]
    },
    {
      "cell_type": "code",
      "metadata": {
        "id": "uQmjEYvwnT5x"
      },
      "source": [
        "from sklearn.preprocessing import StandardScaler\n",
        "scaler = StandardScaler()\n",
        "\n",
        "# fit_tranform call .fit() to compute the mean and std deviation for later use \n",
        "# Note: the return type of .fit_transform is ndarray\n",
        "X_train = scaler.fit_transform(X_train)\n",
        "# No need to call fit_transform again since the params have been computed in the previous line\n",
        "X_test = scaler.transform(X_test)"
      ],
      "execution_count": 19,
      "outputs": []
    },
    {
      "cell_type": "code",
      "metadata": {
        "id": "_ovJc-3inUAj",
        "colab": {
          "base_uri": "https://localhost:8080/"
        },
        "outputId": "9479de1f-d52f-4c65-ab14-8fc7b8b7ff82"
      },
      "source": [
        "print(X_train.shape)\n",
        "print(type(X_train))"
      ],
      "execution_count": 20,
      "outputs": [
        {
          "output_type": "stream",
          "text": [
            "(4086, 11)\n",
            "<class 'numpy.ndarray'>\n"
          ],
          "name": "stdout"
        }
      ]
    },
    {
      "cell_type": "markdown",
      "metadata": {
        "id": "FcS8qB6Q1XIo"
      },
      "source": [
        "## Trian Models"
      ]
    },
    {
      "cell_type": "markdown",
      "metadata": {
        "id": "k9decHRqpT0T"
      },
      "source": [
        "### Logistic Regression\n",
        "\n",
        "\n"
      ]
    },
    {
      "cell_type": "code",
      "metadata": {
        "id": "5MvPQyfupULK",
        "colab": {
          "base_uri": "https://localhost:8080/"
        },
        "outputId": "7afa37ea-3f60-49dd-f978-8ae4349f75c4"
      },
      "source": [
        "from sklearn.linear_model import LogisticRegression\n",
        "\n",
        "# No params are passing in here into the LogisticRegression class (i.e. no tuning)\n",
        "logReg_clf = LogisticRegression(random_state = 0, multi_class='ovr', max_iter=10000).fit(X_train, y_train)\n",
        "y_pred_log = logReg_clf.predict(X_test)\n",
        "print(classification_report(y_test, y_pred_log))"
      ],
      "execution_count": 21,
      "outputs": [
        {
          "output_type": "stream",
          "text": [
            "              precision    recall  f1-score   support\n",
            "\n",
            "           0       0.06      1.00      0.12         2\n",
            "           1       0.13      0.29      0.18        21\n",
            "           2       0.63      0.58      0.61       207\n",
            "           3       0.56      0.25      0.35       195\n",
            "           4       0.29      0.42      0.35        52\n",
            "           5       0.06      1.00      0.11         3\n",
            "\n",
            "    accuracy                           0.42       480\n",
            "   macro avg       0.29      0.59      0.29       480\n",
            "weighted avg       0.54      0.42      0.45       480\n",
            "\n"
          ],
          "name": "stdout"
        }
      ]
    },
    {
      "cell_type": "markdown",
      "metadata": {
        "id": "Ir3Pwxya1eUK"
      },
      "source": [
        "### SVM"
      ]
    },
    {
      "cell_type": "code",
      "metadata": {
        "id": "FFAYhU1d2Xq-",
        "colab": {
          "base_uri": "https://localhost:8080/"
        },
        "outputId": "56394c3d-ce62-492b-81ea-65cebe978a92"
      },
      "source": [
        "# linear SVM \n",
        "from sklearn.svm import LinearSVC\n",
        "\n",
        "svm_clf = LinearSVC(random_state = 0, multi_class='ovr', max_iter=10000, class_weight=None).fit(X_train, y_train)\n",
        "\n",
        "# kernel SVM \n",
        "from sklearn.svm import SVC\n",
        "kernel_svm_clf = SVC(random_state=0, kernel = 'poly', decision_function_shape='ovr', max_iter=-1, class_weight=None).fit(X_train, y_train)\n",
        "\n",
        "# predit the test data and generating report\n",
        "y_pred_svm = svm_clf.predict(X_test)\n",
        "y_pred_kernel_svm = kernel_svm_clf.predict(X_test)\n",
        "print(classification_report(y_test, y_pred_svm))\n",
        "print(classification_report(y_test, y_pred_kernel_svm))"
      ],
      "execution_count": 22,
      "outputs": [
        {
          "output_type": "stream",
          "text": [
            "              precision    recall  f1-score   support\n",
            "\n",
            "           0       0.06      1.00      0.11         2\n",
            "           1       0.16      0.29      0.20        21\n",
            "           2       0.62      0.66      0.64       207\n",
            "           3       0.71      0.17      0.28       195\n",
            "           4       0.29      0.44      0.35        52\n",
            "           5       0.05      1.00      0.10         3\n",
            "\n",
            "    accuracy                           0.43       480\n",
            "   macro avg       0.31      0.59      0.28       480\n",
            "weighted avg       0.59      0.43      0.44       480\n",
            "\n",
            "              precision    recall  f1-score   support\n",
            "\n",
            "           0       0.20      1.00      0.33         2\n",
            "           1       0.22      0.67      0.33        21\n",
            "           2       0.80      0.53      0.64       207\n",
            "           3       0.67      0.68      0.67       195\n",
            "           4       0.64      0.62      0.63        52\n",
            "           5       0.15      1.00      0.26         3\n",
            "\n",
            "    accuracy                           0.61       480\n",
            "   macro avg       0.45      0.75      0.48       480\n",
            "weighted avg       0.70      0.61      0.63       480\n",
            "\n"
          ],
          "name": "stdout"
        }
      ]
    },
    {
      "cell_type": "markdown",
      "metadata": {
        "id": "_0DGDaaM1hkl"
      },
      "source": [
        "### K-NN"
      ]
    },
    {
      "cell_type": "code",
      "metadata": {
        "id": "Ymg_2C_b3tNB",
        "colab": {
          "base_uri": "https://localhost:8080/"
        },
        "outputId": "1b876414-9337-463f-81d4-2990983d0994"
      },
      "source": [
        "from sklearn.neighbors import KNeighborsClassifier\n",
        "knn_clf = KNeighborsClassifier(n_neighbors=6)\n",
        "knn_clf.fit(X_train, y_train)\n",
        "\n",
        "# predit the test data and generating report\n",
        "y_pred_knn = knn_clf.predict(X_test)\n",
        "\n",
        "print(type(y_pred_knn))\n",
        "print(type(y_test))\n",
        "print(classification_report(y_test, y_pred_knn))"
      ],
      "execution_count": 23,
      "outputs": [
        {
          "output_type": "stream",
          "text": [
            "<class 'numpy.ndarray'>\n",
            "<class 'pandas.core.series.Series'>\n",
            "              precision    recall  f1-score   support\n",
            "\n",
            "           0       0.29      1.00      0.44         2\n",
            "           1       0.29      0.95      0.44        21\n",
            "           2       0.78      0.65      0.71       207\n",
            "           3       0.79      0.51      0.62       195\n",
            "           4       0.55      0.88      0.68        52\n",
            "           5       0.14      1.00      0.24         3\n",
            "\n",
            "    accuracy                           0.64       480\n",
            "   macro avg       0.47      0.83      0.52       480\n",
            "weighted avg       0.73      0.64      0.66       480\n",
            "\n"
          ],
          "name": "stdout"
        }
      ]
    },
    {
      "cell_type": "markdown",
      "metadata": {
        "id": "OzaA3THCg1_B"
      },
      "source": [
        "## Tensorflow 2.x"
      ]
    },
    {
      "cell_type": "code",
      "metadata": {
        "colab": {
          "base_uri": "https://localhost:8080/"
        },
        "id": "obWh7kong9M2",
        "outputId": "03fa6901-f0b4-4d59-e18b-ab08f509e01b"
      },
      "source": [
        "# examine the training data\r\n",
        "print('X_train: ', X_train)\r\n",
        "print('y_train: ', y_train)\r\n",
        "\r\n"
      ],
      "execution_count": 24,
      "outputs": [
        {
          "output_type": "stream",
          "text": [
            "X_train:  [[-0.58760121  0.46173734 -1.35316598 ...  1.20023021 -0.61893328\n",
            "  -1.12716795]\n",
            " [-0.34275952  1.18616759 -1.35316598 ... -0.82817479  0.13186812\n",
            "  -0.78123094]\n",
            " [-0.34275952  0.70321409 -1.15615613 ... -0.43558027 -0.05583223\n",
            "  -0.78123094]\n",
            " ...\n",
            " [ 1.41494657 -0.95545557  1.22921928 ... -1.11814481  0.01973963\n",
            "   0.35489614]\n",
            " [-0.49883606 -0.88564827  0.53779413 ... -0.24487311  0.94078191\n",
            "   1.15542898]\n",
            " [ 0.98703226 -0.85537904  1.19003045 ... -0.97682721  0.05796229\n",
            "   0.84643586]]\n",
            "y_train:  [2 2 2 ... 5 5 5]\n"
          ],
          "name": "stdout"
        }
      ]
    },
    {
      "cell_type": "code",
      "metadata": {
        "id": "TMGMAN8fhkWc"
      },
      "source": [
        "# setting up the layers\r\n",
        "wine_model = tf.keras.Sequential([\r\n",
        "  layers.Dense(11, activation='relu'),\r\n",
        "  layers.Dense(6)\r\n",
        "])\r\n"
      ],
      "execution_count": 25,
      "outputs": []
    },
    {
      "cell_type": "code",
      "metadata": {
        "id": "PcGd-7xwiNIf"
      },
      "source": [
        "# compile the model\r\n",
        "wine_model.compile(optimizer='adam',\r\n",
        "              loss=tf.keras.losses.SparseCategoricalCrossentropy(from_logits=True),\r\n",
        "              metrics=['accuracy'])"
      ],
      "execution_count": 26,
      "outputs": []
    },
    {
      "cell_type": "code",
      "metadata": {
        "colab": {
          "base_uri": "https://localhost:8080/"
        },
        "id": "FTNoms-4iQSZ",
        "outputId": "0f6ab70b-ce90-43a9-b2bc-b3a4d5ffc1d7"
      },
      "source": [
        "# train the model\r\n",
        "wine_model.fit(X_train, y_train, epochs=50, verbose=1)"
      ],
      "execution_count": 27,
      "outputs": [
        {
          "output_type": "stream",
          "text": [
            "Epoch 1/50\n",
            "128/128 [==============================] - 1s 1ms/step - loss: 1.8432 - accuracy: 0.2558\n",
            "Epoch 2/50\n",
            "128/128 [==============================] - 0s 1ms/step - loss: 1.5109 - accuracy: 0.3696\n",
            "Epoch 3/50\n",
            "128/128 [==============================] - 0s 1ms/step - loss: 1.3434 - accuracy: 0.4316\n",
            "Epoch 4/50\n",
            "128/128 [==============================] - 0s 1ms/step - loss: 1.2406 - accuracy: 0.4425\n",
            "Epoch 5/50\n",
            "128/128 [==============================] - 0s 1ms/step - loss: 1.1651 - accuracy: 0.4742\n",
            "Epoch 6/50\n",
            "128/128 [==============================] - 0s 1ms/step - loss: 1.1407 - accuracy: 0.4904\n",
            "Epoch 7/50\n",
            "128/128 [==============================] - 0s 1ms/step - loss: 1.0883 - accuracy: 0.5184\n",
            "Epoch 8/50\n",
            "128/128 [==============================] - 0s 1ms/step - loss: 1.0762 - accuracy: 0.5195\n",
            "Epoch 9/50\n",
            "128/128 [==============================] - 0s 1ms/step - loss: 1.0368 - accuracy: 0.5488\n",
            "Epoch 10/50\n",
            "128/128 [==============================] - 0s 1ms/step - loss: 1.0233 - accuracy: 0.5570\n",
            "Epoch 11/50\n",
            "128/128 [==============================] - 0s 1ms/step - loss: 0.9974 - accuracy: 0.5804\n",
            "Epoch 12/50\n",
            "128/128 [==============================] - 0s 1ms/step - loss: 0.9752 - accuracy: 0.5984\n",
            "Epoch 13/50\n",
            "128/128 [==============================] - 0s 1ms/step - loss: 0.9556 - accuracy: 0.5831\n",
            "Epoch 14/50\n",
            "128/128 [==============================] - 0s 1ms/step - loss: 0.9506 - accuracy: 0.6033\n",
            "Epoch 15/50\n",
            "128/128 [==============================] - 0s 1ms/step - loss: 0.9511 - accuracy: 0.5929\n",
            "Epoch 16/50\n",
            "128/128 [==============================] - 0s 1ms/step - loss: 0.9485 - accuracy: 0.5946\n",
            "Epoch 17/50\n",
            "128/128 [==============================] - 0s 1ms/step - loss: 0.9300 - accuracy: 0.6143\n",
            "Epoch 18/50\n",
            "128/128 [==============================] - 0s 1ms/step - loss: 0.9079 - accuracy: 0.6243\n",
            "Epoch 19/50\n",
            "128/128 [==============================] - 0s 1ms/step - loss: 0.9048 - accuracy: 0.6249\n",
            "Epoch 20/50\n",
            "128/128 [==============================] - 0s 1ms/step - loss: 0.8788 - accuracy: 0.6347\n",
            "Epoch 21/50\n",
            "128/128 [==============================] - 0s 1ms/step - loss: 0.8754 - accuracy: 0.6397\n",
            "Epoch 22/50\n",
            "128/128 [==============================] - 0s 1ms/step - loss: 0.8769 - accuracy: 0.6291\n",
            "Epoch 23/50\n",
            "128/128 [==============================] - 0s 1ms/step - loss: 0.8803 - accuracy: 0.6218\n",
            "Epoch 24/50\n",
            "128/128 [==============================] - 0s 1ms/step - loss: 0.8587 - accuracy: 0.6446\n",
            "Epoch 25/50\n",
            "128/128 [==============================] - 0s 1ms/step - loss: 0.8573 - accuracy: 0.6400\n",
            "Epoch 26/50\n",
            "128/128 [==============================] - 0s 1ms/step - loss: 0.8687 - accuracy: 0.6266\n",
            "Epoch 27/50\n",
            "128/128 [==============================] - 0s 1ms/step - loss: 0.8377 - accuracy: 0.6549\n",
            "Epoch 28/50\n",
            "128/128 [==============================] - 0s 1ms/step - loss: 0.8570 - accuracy: 0.6415\n",
            "Epoch 29/50\n",
            "128/128 [==============================] - 0s 1ms/step - loss: 0.8150 - accuracy: 0.6580\n",
            "Epoch 30/50\n",
            "128/128 [==============================] - 0s 1ms/step - loss: 0.8200 - accuracy: 0.6606\n",
            "Epoch 31/50\n",
            "128/128 [==============================] - 0s 1ms/step - loss: 0.8218 - accuracy: 0.6696\n",
            "Epoch 32/50\n",
            "128/128 [==============================] - 0s 1ms/step - loss: 0.8128 - accuracy: 0.6610\n",
            "Epoch 33/50\n",
            "128/128 [==============================] - 0s 1ms/step - loss: 0.8271 - accuracy: 0.6552\n",
            "Epoch 34/50\n",
            "128/128 [==============================] - 0s 1ms/step - loss: 0.8261 - accuracy: 0.6461\n",
            "Epoch 35/50\n",
            "128/128 [==============================] - 0s 1ms/step - loss: 0.8328 - accuracy: 0.6489\n",
            "Epoch 36/50\n",
            "128/128 [==============================] - 0s 1ms/step - loss: 0.8170 - accuracy: 0.6675\n",
            "Epoch 37/50\n",
            "128/128 [==============================] - 0s 1ms/step - loss: 0.8093 - accuracy: 0.6680\n",
            "Epoch 38/50\n",
            "128/128 [==============================] - 0s 1ms/step - loss: 0.8058 - accuracy: 0.6712\n",
            "Epoch 39/50\n",
            "128/128 [==============================] - 0s 1ms/step - loss: 0.8025 - accuracy: 0.6681\n",
            "Epoch 40/50\n",
            "128/128 [==============================] - 0s 1ms/step - loss: 0.7971 - accuracy: 0.6738\n",
            "Epoch 41/50\n",
            "128/128 [==============================] - 0s 1ms/step - loss: 0.7876 - accuracy: 0.6805\n",
            "Epoch 42/50\n",
            "128/128 [==============================] - 0s 1ms/step - loss: 0.7708 - accuracy: 0.6866\n",
            "Epoch 43/50\n",
            "128/128 [==============================] - 0s 1ms/step - loss: 0.7853 - accuracy: 0.6809\n",
            "Epoch 44/50\n",
            "128/128 [==============================] - 0s 1ms/step - loss: 0.7884 - accuracy: 0.6719\n",
            "Epoch 45/50\n",
            "128/128 [==============================] - 0s 1ms/step - loss: 0.7935 - accuracy: 0.6682\n",
            "Epoch 46/50\n",
            "128/128 [==============================] - 0s 1ms/step - loss: 0.7528 - accuracy: 0.7003\n",
            "Epoch 47/50\n",
            "128/128 [==============================] - 0s 1ms/step - loss: 0.7540 - accuracy: 0.7020\n",
            "Epoch 48/50\n",
            "128/128 [==============================] - 0s 1ms/step - loss: 0.7713 - accuracy: 0.6864\n",
            "Epoch 49/50\n",
            "128/128 [==============================] - 0s 1ms/step - loss: 0.7765 - accuracy: 0.6801\n",
            "Epoch 50/50\n",
            "128/128 [==============================] - 0s 1ms/step - loss: 0.7599 - accuracy: 0.6827\n"
          ],
          "name": "stdout"
        },
        {
          "output_type": "execute_result",
          "data": {
            "text/plain": [
              "<tensorflow.python.keras.callbacks.History at 0x7f9d3a308550>"
            ]
          },
          "metadata": {
            "tags": []
          },
          "execution_count": 27
        }
      ]
    },
    {
      "cell_type": "code",
      "metadata": {
        "colab": {
          "base_uri": "https://localhost:8080/"
        },
        "id": "ge8kEYV4kasW",
        "outputId": "8f914b9e-7397-41e4-f1cd-691ddb44f7d6"
      },
      "source": [
        "# evalute accuracy\r\n",
        "test_loss, test_acc = wine_model.evaluate(X_test,  y_test, verbose=2)\r\n",
        "\r\n",
        "print('\\nTest accuracy:', test_acc)"
      ],
      "execution_count": 30,
      "outputs": [
        {
          "output_type": "stream",
          "text": [
            "15/15 - 0s - loss: 1.1371 - accuracy: 0.4917\n",
            "\n",
            "Test accuracy: 0.49166667461395264\n"
          ],
          "name": "stdout"
        }
      ]
    },
    {
      "cell_type": "code",
      "metadata": {
        "colab": {
          "base_uri": "https://localhost:8080/"
        },
        "id": "Izc9Zy_Jmbxy",
        "outputId": "6954bee6-1cc0-4176-bdb5-81426939ebad"
      },
      "source": [
        "# predictions\r\n",
        "# y_pred_tf = wine_model.predict(X_test, verbose=1)\r\n",
        "# y_pred_tf_quality = np.argmax(y_pred_tf, axis=1)\r\n",
        "\r\n",
        "probability_model = tf.keras.Sequential([wine_model, tf.keras.layers.Softmax()])\r\n",
        "predictions = probability_model.predict(X_test)\r\n",
        "y_pred = np.argmax(predictions, axis=1)\r\n",
        "print(y_pred)\r\n",
        "\r\n",
        "# print out the report using sklearn\r\n",
        "print(classification_report(y_test, y_pred))"
      ],
      "execution_count": 31,
      "outputs": [
        {
          "output_type": "stream",
          "text": [
            "[1 2 4 3 4 3 4 2 1 1 3 2 2 4 3 2 3 1 3 2 3 4 1 4 2 4 3 3 1 2 0 4 2 4 2 3 2\n",
            " 2 4 1 4 2 2 3 2 3 2 1 2 3 2 1 4 2 2 4 4 4 4 2 4 2 0 3 2 1 5 3 3 5 2 3 3 2\n",
            " 1 1 4 1 3 3 3 2 2 2 3 2 2 4 1 3 2 4 2 5 3 2 4 3 0 4 3 1 2 2 2 3 3 1 4 2 4\n",
            " 3 4 3 1 4 2 2 2 2 1 5 4 0 2 3 3 2 4 3 1 1 4 2 3 3 1 4 2 2 2 3 3 1 3 4 1 2\n",
            " 3 3 1 4 2 2 4 4 4 4 3 3 5 2 2 2 4 3 2 2 2 3 2 3 2 0 4 2 2 2 2 2 3 4 3 2 4\n",
            " 3 4 2 1 2 3 3 2 2 3 2 2 2 2 2 4 2 4 2 4 4 1 2 4 3 2 3 2 4 2 2 1 2 4 3 3 2\n",
            " 1 2 3 3 2 3 4 3 1 2 4 5 2 2 4 2 1 1 3 3 4 2 3 5 3 2 1 2 2 2 4 3 4 2 2 1 2\n",
            " 3 4 1 3 0 2 3 3 2 2 4 2 3 2 4 1 3 2 3 3 2 5 3 1 2 1 3 2 2 1 3 3 3 3 0 4 4\n",
            " 2 4 2 2 1 3 2 3 2 3 2 5 1 2 1 3 1 4 1 3 2 2 5 4 2 3 4 2 2 2 2 4 3 2 5 2 0\n",
            " 2 3 2 5 4 2 3 2 2 3 3 2 4 4 2 1 1 3 4 3 4 3 0 5 4 1 2 1 4 2 4 2 2 2 2 3 2\n",
            " 3 3 2 1 2 3 5 5 2 3 4 3 4 3 1 4 2 3 3 2 2 3 2 4 2 3 1 4 2 4 3 1 4 2 1 0 2\n",
            " 3 2 4 4 0 3 2 2 2 1 4 2 2 2 4 4 3 2 3 4 2 0 4 2 1 2 2 2 2 3 3 3 4 4 3 3 5\n",
            " 0 2 2 3 2 2 2 1 3 4 2 1 4 1 4 1 2 3 2 3 2 1 1 1 5 4 0 4 2 5 3 3 3 1 3 4]\n",
            "              precision    recall  f1-score   support\n",
            "\n",
            "           0       0.14      1.00      0.25         2\n",
            "           1       0.18      0.52      0.27        21\n",
            "           2       0.68      0.56      0.61       207\n",
            "           3       0.60      0.37      0.46       195\n",
            "           4       0.34      0.62      0.44        52\n",
            "           5       0.17      1.00      0.29         3\n",
            "\n",
            "    accuracy                           0.49       480\n",
            "   macro avg       0.35      0.68      0.38       480\n",
            "weighted avg       0.58      0.49      0.51       480\n",
            "\n"
          ],
          "name": "stdout"
        }
      ]
    },
    {
      "cell_type": "markdown",
      "metadata": {
        "id": "_T8ybbcgqfQr"
      },
      "source": [
        "## Predicting the Test Set Results"
      ]
    },
    {
      "cell_type": "markdown",
      "metadata": {
        "id": "CDUikc8syBID"
      },
      "source": [
        "The f1-score gives us the harmonic mean of precision and recall. The scores corresponding to every class will tell us the accuracy of the classifier in classifying the data points in that particular class compared to all other classes.\n",
        "\n",
        "The support is the number of samples we have for each class.\n",
        "\n",
        "Since we have severly skewed classes. Accuracy may not be a good choice of metric of measuring the model performance. We'll use F1-score as our metric.\n",
        "\n",
        "\n",
        "\n"
      ]
    }
  ]
}