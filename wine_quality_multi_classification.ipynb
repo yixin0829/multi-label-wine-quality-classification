{
  "nbformat": 4,
  "nbformat_minor": 0,
  "metadata": {
    "colab": {
      "name": "wine-quality-multi-classification.ipynb",
      "provenance": [],
      "collapsed_sections": []
    },
    "kernelspec": {
      "name": "python3",
      "display_name": "Python 3"
    }
  },
  "cells": [
    {
      "cell_type": "markdown",
      "metadata": {
        "id": "VWmi1zEYihhH"
      },
      "source": [
        "# Multi-Label Wine Quality Classification\n",
        "\n",
        "\n",
        "---\n",
        "\n",
        "\n",
        "\n",
        "\n",
        "\n"
      ]
    },
    {
      "cell_type": "code",
      "metadata": {
        "id": "rZKYQoLzFIgr",
        "colab": {
          "base_uri": "https://localhost:8080/"
        },
        "outputId": "cb33e981-0df4-4d2a-eaf7-cad6a41831c0"
      },
      "source": [
        "from google.colab import drive\n",
        "drive.mount('/content/drive')"
      ],
      "execution_count": 360,
      "outputs": [
        {
          "output_type": "stream",
          "text": [
            "Drive already mounted at /content/drive; to attempt to forcibly remount, call drive.mount(\"/content/drive\", force_remount=True).\n"
          ],
          "name": "stdout"
        }
      ]
    },
    {
      "cell_type": "markdown",
      "metadata": {
        "id": "jtXxFyjXoicP"
      },
      "source": [
        "## Context & Workflow in Mind\n",
        "The dataset is pulled through Kaggle API. The dataset is related to red variants of the Portuguese \"Vinho Verde\" wine. For more details, consult the reference [Cortez et al., 2009]."
      ]
    },
    {
      "cell_type": "markdown",
      "metadata": {
        "id": "pP_f_wGxoYCn"
      },
      "source": [
        "### **Tools & Models**\n",
        "\n",
        "\n",
        "**The plan** is to use the dataset to train some multi-label classification models using different ML models and compare their performance + analyze why they differentiate: \n",
        "\n",
        "\n",
        "*   Logistic regression\n",
        "*   K-NN\n",
        "*   SVM\n",
        "\n"
      ]
    },
    {
      "cell_type": "markdown",
      "metadata": {
        "id": "q62uTGBBotA9"
      },
      "source": [
        "### **Workflow**\n",
        "\n",
        "\n",
        "\n",
        "*   Import libraries & data\n",
        "*   Exploratory analysis & Data visualization\n",
        "*   Data preprocessing\n",
        "*   Rapid prototyping (train a logistic regression classifer with one vs. all method)\n",
        "*   Feature engineering\n",
        "*   Iterate for better performance (precision/recall & F score)"
      ]
    },
    {
      "cell_type": "markdown",
      "metadata": {
        "id": "J2NAE4Uhp-hs"
      },
      "source": [
        "## Import Libararies"
      ]
    },
    {
      "cell_type": "code",
      "metadata": {
        "id": "CtxQvsGliVcA",
        "colab": {
          "base_uri": "https://localhost:8080/"
        },
        "outputId": "9a442ca9-e3d9-4a0f-a311-ed77d8951f06"
      },
      "source": [
        "import numpy as np\n",
        "import pandas as pd\n",
        "import seaborn as sns\n",
        "import matplotlib.pyplot as plt\n",
        "from sklearn.model_selection import train_test_split\n",
        "\n",
        "# oversampling modules\n",
        "from sklearn.utils import resample\n",
        "from imblearn.over_sampling import SMOTE\n",
        "\n",
        "from sklearn.preprocessing import StandardScaler\n",
        "from sklearn.linear_model import LogisticRegression\n",
        "from sklearn.svm import LinearSVC\n",
        "from sklearn.svm import SVC\n",
        "from sklearn.neighbors import KNeighborsClassifier\n",
        "from sklearn.metrics import classification_report\n",
        "%matplotlib inline\n"
      ],
      "execution_count": 361,
      "outputs": [
        {
          "output_type": "stream",
          "text": [
            "/usr/local/lib/python3.6/dist-packages/sklearn/externals/six.py:31: FutureWarning: The module is deprecated in version 0.21 and will be removed in version 0.23 since we've dropped support for Python 2.7. Please rely on the official version of six (https://pypi.org/project/six/).\n",
            "  \"(https://pypi.org/project/six/).\", FutureWarning)\n",
            "/usr/local/lib/python3.6/dist-packages/sklearn/utils/deprecation.py:144: FutureWarning: The sklearn.neighbors.base module is  deprecated in version 0.22 and will be removed in version 0.24. The corresponding classes / functions should instead be imported from sklearn.neighbors. Anything that cannot be imported from sklearn.neighbors is now part of the private API.\n",
            "  warnings.warn(message, FutureWarning)\n"
          ],
          "name": "stderr"
        }
      ]
    },
    {
      "cell_type": "markdown",
      "metadata": {
        "id": "vqMxeS4TC57T"
      },
      "source": [
        "### Use the right version of TensorFlow\n",
        "The following hidden code cell ensures that the Colab will run on TensorFlow 2X."
      ]
    },
    {
      "cell_type": "code",
      "metadata": {
        "id": "_1K99Li90CnF",
        "cellView": "form"
      },
      "source": [
        "#@title Run on TensorFlow 2.x\n",
        "%tensorflow_version 2.x"
      ],
      "execution_count": 362,
      "outputs": []
    },
    {
      "cell_type": "markdown",
      "metadata": {
        "id": "FLWdaU7EvEt5"
      },
      "source": [
        "## Importing Dataset"
      ]
    },
    {
      "cell_type": "code",
      "metadata": {
        "id": "diMYh1tMu0JX",
        "colab": {
          "base_uri": "https://localhost:8080/",
          "height": 198
        },
        "outputId": "41c5919e-3e1e-4c68-daf9-f0dbf47c3dee"
      },
      "source": [
        "wine_df = pd.read_csv(\"./drive/My Drive/Multi-label Wine Quality Classification/winequality-red.csv\")\n",
        "wine_df.head()"
      ],
      "execution_count": 363,
      "outputs": [
        {
          "output_type": "execute_result",
          "data": {
            "text/html": [
              "<div>\n",
              "<style scoped>\n",
              "    .dataframe tbody tr th:only-of-type {\n",
              "        vertical-align: middle;\n",
              "    }\n",
              "\n",
              "    .dataframe tbody tr th {\n",
              "        vertical-align: top;\n",
              "    }\n",
              "\n",
              "    .dataframe thead th {\n",
              "        text-align: right;\n",
              "    }\n",
              "</style>\n",
              "<table border=\"1\" class=\"dataframe\">\n",
              "  <thead>\n",
              "    <tr style=\"text-align: right;\">\n",
              "      <th></th>\n",
              "      <th>fixed acidity</th>\n",
              "      <th>volatile acidity</th>\n",
              "      <th>citric acid</th>\n",
              "      <th>residual sugar</th>\n",
              "      <th>chlorides</th>\n",
              "      <th>free sulfur dioxide</th>\n",
              "      <th>total sulfur dioxide</th>\n",
              "      <th>density</th>\n",
              "      <th>pH</th>\n",
              "      <th>sulphates</th>\n",
              "      <th>alcohol</th>\n",
              "      <th>quality</th>\n",
              "    </tr>\n",
              "  </thead>\n",
              "  <tbody>\n",
              "    <tr>\n",
              "      <th>0</th>\n",
              "      <td>7.4</td>\n",
              "      <td>0.70</td>\n",
              "      <td>0.00</td>\n",
              "      <td>1.9</td>\n",
              "      <td>0.076</td>\n",
              "      <td>11.0</td>\n",
              "      <td>34.0</td>\n",
              "      <td>0.9978</td>\n",
              "      <td>3.51</td>\n",
              "      <td>0.56</td>\n",
              "      <td>9.4</td>\n",
              "      <td>5</td>\n",
              "    </tr>\n",
              "    <tr>\n",
              "      <th>1</th>\n",
              "      <td>7.8</td>\n",
              "      <td>0.88</td>\n",
              "      <td>0.00</td>\n",
              "      <td>2.6</td>\n",
              "      <td>0.098</td>\n",
              "      <td>25.0</td>\n",
              "      <td>67.0</td>\n",
              "      <td>0.9968</td>\n",
              "      <td>3.20</td>\n",
              "      <td>0.68</td>\n",
              "      <td>9.8</td>\n",
              "      <td>5</td>\n",
              "    </tr>\n",
              "    <tr>\n",
              "      <th>2</th>\n",
              "      <td>7.8</td>\n",
              "      <td>0.76</td>\n",
              "      <td>0.04</td>\n",
              "      <td>2.3</td>\n",
              "      <td>0.092</td>\n",
              "      <td>15.0</td>\n",
              "      <td>54.0</td>\n",
              "      <td>0.9970</td>\n",
              "      <td>3.26</td>\n",
              "      <td>0.65</td>\n",
              "      <td>9.8</td>\n",
              "      <td>5</td>\n",
              "    </tr>\n",
              "    <tr>\n",
              "      <th>3</th>\n",
              "      <td>11.2</td>\n",
              "      <td>0.28</td>\n",
              "      <td>0.56</td>\n",
              "      <td>1.9</td>\n",
              "      <td>0.075</td>\n",
              "      <td>17.0</td>\n",
              "      <td>60.0</td>\n",
              "      <td>0.9980</td>\n",
              "      <td>3.16</td>\n",
              "      <td>0.58</td>\n",
              "      <td>9.8</td>\n",
              "      <td>6</td>\n",
              "    </tr>\n",
              "    <tr>\n",
              "      <th>4</th>\n",
              "      <td>7.4</td>\n",
              "      <td>0.70</td>\n",
              "      <td>0.00</td>\n",
              "      <td>1.9</td>\n",
              "      <td>0.076</td>\n",
              "      <td>11.0</td>\n",
              "      <td>34.0</td>\n",
              "      <td>0.9978</td>\n",
              "      <td>3.51</td>\n",
              "      <td>0.56</td>\n",
              "      <td>9.4</td>\n",
              "      <td>5</td>\n",
              "    </tr>\n",
              "  </tbody>\n",
              "</table>\n",
              "</div>"
            ],
            "text/plain": [
              "   fixed acidity  volatile acidity  citric acid  ...  sulphates  alcohol  quality\n",
              "0            7.4              0.70         0.00  ...       0.56      9.4        5\n",
              "1            7.8              0.88         0.00  ...       0.68      9.8        5\n",
              "2            7.8              0.76         0.04  ...       0.65      9.8        5\n",
              "3           11.2              0.28         0.56  ...       0.58      9.8        6\n",
              "4            7.4              0.70         0.00  ...       0.56      9.4        5\n",
              "\n",
              "[5 rows x 12 columns]"
            ]
          },
          "metadata": {
            "tags": []
          },
          "execution_count": 363
        }
      ]
    },
    {
      "cell_type": "code",
      "metadata": {
        "colab": {
          "base_uri": "https://localhost:8080/"
        },
        "id": "_02BfxsuK_Yj",
        "outputId": "28e62974-c413-499c-b5fb-593a48fee63c"
      },
      "source": [
        "X = wine_df.iloc[:, :-1]\r\n",
        "y = wine_df.iloc[:, -1]\r\n",
        "print(\"the dimension of X training examples is:\" + str(X.shape) + \"\\n the dimension of y training examples is:\" + str(y.shape))"
      ],
      "execution_count": 364,
      "outputs": [
        {
          "output_type": "stream",
          "text": [
            "the dimension of X training examples is:(1599, 11)\n",
            " the dimension of y training examples is:(1599,)\n"
          ],
          "name": "stdout"
        }
      ]
    },
    {
      "cell_type": "code",
      "metadata": {
        "id": "0r8kOyPpY30q",
        "colab": {
          "base_uri": "https://localhost:8080/",
          "height": 408
        },
        "outputId": "3b42b560-f4c2-4b74-c2b8-96ac28c5c793"
      },
      "source": [
        "wine_df.describe().transpose()"
      ],
      "execution_count": 365,
      "outputs": [
        {
          "output_type": "execute_result",
          "data": {
            "text/html": [
              "<div>\n",
              "<style scoped>\n",
              "    .dataframe tbody tr th:only-of-type {\n",
              "        vertical-align: middle;\n",
              "    }\n",
              "\n",
              "    .dataframe tbody tr th {\n",
              "        vertical-align: top;\n",
              "    }\n",
              "\n",
              "    .dataframe thead th {\n",
              "        text-align: right;\n",
              "    }\n",
              "</style>\n",
              "<table border=\"1\" class=\"dataframe\">\n",
              "  <thead>\n",
              "    <tr style=\"text-align: right;\">\n",
              "      <th></th>\n",
              "      <th>count</th>\n",
              "      <th>mean</th>\n",
              "      <th>std</th>\n",
              "      <th>min</th>\n",
              "      <th>25%</th>\n",
              "      <th>50%</th>\n",
              "      <th>75%</th>\n",
              "      <th>max</th>\n",
              "    </tr>\n",
              "  </thead>\n",
              "  <tbody>\n",
              "    <tr>\n",
              "      <th>fixed acidity</th>\n",
              "      <td>1599.0</td>\n",
              "      <td>8.319637</td>\n",
              "      <td>1.741096</td>\n",
              "      <td>4.60000</td>\n",
              "      <td>7.1000</td>\n",
              "      <td>7.90000</td>\n",
              "      <td>9.200000</td>\n",
              "      <td>15.90000</td>\n",
              "    </tr>\n",
              "    <tr>\n",
              "      <th>volatile acidity</th>\n",
              "      <td>1599.0</td>\n",
              "      <td>0.527821</td>\n",
              "      <td>0.179060</td>\n",
              "      <td>0.12000</td>\n",
              "      <td>0.3900</td>\n",
              "      <td>0.52000</td>\n",
              "      <td>0.640000</td>\n",
              "      <td>1.58000</td>\n",
              "    </tr>\n",
              "    <tr>\n",
              "      <th>citric acid</th>\n",
              "      <td>1599.0</td>\n",
              "      <td>0.270976</td>\n",
              "      <td>0.194801</td>\n",
              "      <td>0.00000</td>\n",
              "      <td>0.0900</td>\n",
              "      <td>0.26000</td>\n",
              "      <td>0.420000</td>\n",
              "      <td>1.00000</td>\n",
              "    </tr>\n",
              "    <tr>\n",
              "      <th>residual sugar</th>\n",
              "      <td>1599.0</td>\n",
              "      <td>2.538806</td>\n",
              "      <td>1.409928</td>\n",
              "      <td>0.90000</td>\n",
              "      <td>1.9000</td>\n",
              "      <td>2.20000</td>\n",
              "      <td>2.600000</td>\n",
              "      <td>15.50000</td>\n",
              "    </tr>\n",
              "    <tr>\n",
              "      <th>chlorides</th>\n",
              "      <td>1599.0</td>\n",
              "      <td>0.087467</td>\n",
              "      <td>0.047065</td>\n",
              "      <td>0.01200</td>\n",
              "      <td>0.0700</td>\n",
              "      <td>0.07900</td>\n",
              "      <td>0.090000</td>\n",
              "      <td>0.61100</td>\n",
              "    </tr>\n",
              "    <tr>\n",
              "      <th>free sulfur dioxide</th>\n",
              "      <td>1599.0</td>\n",
              "      <td>15.874922</td>\n",
              "      <td>10.460157</td>\n",
              "      <td>1.00000</td>\n",
              "      <td>7.0000</td>\n",
              "      <td>14.00000</td>\n",
              "      <td>21.000000</td>\n",
              "      <td>72.00000</td>\n",
              "    </tr>\n",
              "    <tr>\n",
              "      <th>total sulfur dioxide</th>\n",
              "      <td>1599.0</td>\n",
              "      <td>46.467792</td>\n",
              "      <td>32.895324</td>\n",
              "      <td>6.00000</td>\n",
              "      <td>22.0000</td>\n",
              "      <td>38.00000</td>\n",
              "      <td>62.000000</td>\n",
              "      <td>289.00000</td>\n",
              "    </tr>\n",
              "    <tr>\n",
              "      <th>density</th>\n",
              "      <td>1599.0</td>\n",
              "      <td>0.996747</td>\n",
              "      <td>0.001887</td>\n",
              "      <td>0.99007</td>\n",
              "      <td>0.9956</td>\n",
              "      <td>0.99675</td>\n",
              "      <td>0.997835</td>\n",
              "      <td>1.00369</td>\n",
              "    </tr>\n",
              "    <tr>\n",
              "      <th>pH</th>\n",
              "      <td>1599.0</td>\n",
              "      <td>3.311113</td>\n",
              "      <td>0.154386</td>\n",
              "      <td>2.74000</td>\n",
              "      <td>3.2100</td>\n",
              "      <td>3.31000</td>\n",
              "      <td>3.400000</td>\n",
              "      <td>4.01000</td>\n",
              "    </tr>\n",
              "    <tr>\n",
              "      <th>sulphates</th>\n",
              "      <td>1599.0</td>\n",
              "      <td>0.658149</td>\n",
              "      <td>0.169507</td>\n",
              "      <td>0.33000</td>\n",
              "      <td>0.5500</td>\n",
              "      <td>0.62000</td>\n",
              "      <td>0.730000</td>\n",
              "      <td>2.00000</td>\n",
              "    </tr>\n",
              "    <tr>\n",
              "      <th>alcohol</th>\n",
              "      <td>1599.0</td>\n",
              "      <td>10.422983</td>\n",
              "      <td>1.065668</td>\n",
              "      <td>8.40000</td>\n",
              "      <td>9.5000</td>\n",
              "      <td>10.20000</td>\n",
              "      <td>11.100000</td>\n",
              "      <td>14.90000</td>\n",
              "    </tr>\n",
              "    <tr>\n",
              "      <th>quality</th>\n",
              "      <td>1599.0</td>\n",
              "      <td>5.636023</td>\n",
              "      <td>0.807569</td>\n",
              "      <td>3.00000</td>\n",
              "      <td>5.0000</td>\n",
              "      <td>6.00000</td>\n",
              "      <td>6.000000</td>\n",
              "      <td>8.00000</td>\n",
              "    </tr>\n",
              "  </tbody>\n",
              "</table>\n",
              "</div>"
            ],
            "text/plain": [
              "                       count       mean  ...        75%        max\n",
              "fixed acidity         1599.0   8.319637  ...   9.200000   15.90000\n",
              "volatile acidity      1599.0   0.527821  ...   0.640000    1.58000\n",
              "citric acid           1599.0   0.270976  ...   0.420000    1.00000\n",
              "residual sugar        1599.0   2.538806  ...   2.600000   15.50000\n",
              "chlorides             1599.0   0.087467  ...   0.090000    0.61100\n",
              "free sulfur dioxide   1599.0  15.874922  ...  21.000000   72.00000\n",
              "total sulfur dioxide  1599.0  46.467792  ...  62.000000  289.00000\n",
              "density               1599.0   0.996747  ...   0.997835    1.00369\n",
              "pH                    1599.0   3.311113  ...   3.400000    4.01000\n",
              "sulphates             1599.0   0.658149  ...   0.730000    2.00000\n",
              "alcohol               1599.0  10.422983  ...  11.100000   14.90000\n",
              "quality               1599.0   5.636023  ...   6.000000    8.00000\n",
              "\n",
              "[12 rows x 8 columns]"
            ]
          },
          "metadata": {
            "tags": []
          },
          "execution_count": 365
        }
      ]
    },
    {
      "cell_type": "code",
      "metadata": {
        "id": "cbBPK0VThCd4",
        "colab": {
          "base_uri": "https://localhost:8080/"
        },
        "outputId": "259f6fb7-30c5-4a03-f872-8b39fe88c4a5"
      },
      "source": [
        "wine_df.info()"
      ],
      "execution_count": 366,
      "outputs": [
        {
          "output_type": "stream",
          "text": [
            "<class 'pandas.core.frame.DataFrame'>\n",
            "RangeIndex: 1599 entries, 0 to 1598\n",
            "Data columns (total 12 columns):\n",
            " #   Column                Non-Null Count  Dtype  \n",
            "---  ------                --------------  -----  \n",
            " 0   fixed acidity         1599 non-null   float64\n",
            " 1   volatile acidity      1599 non-null   float64\n",
            " 2   citric acid           1599 non-null   float64\n",
            " 3   residual sugar        1599 non-null   float64\n",
            " 4   chlorides             1599 non-null   float64\n",
            " 5   free sulfur dioxide   1599 non-null   float64\n",
            " 6   total sulfur dioxide  1599 non-null   float64\n",
            " 7   density               1599 non-null   float64\n",
            " 8   pH                    1599 non-null   float64\n",
            " 9   sulphates             1599 non-null   float64\n",
            " 10  alcohol               1599 non-null   float64\n",
            " 11  quality               1599 non-null   int64  \n",
            "dtypes: float64(11), int64(1)\n",
            "memory usage: 150.0 KB\n"
          ],
          "name": "stdout"
        }
      ]
    },
    {
      "cell_type": "markdown",
      "metadata": {
        "id": "7IQNmsSuqMdi"
      },
      "source": [
        "## Exploratory Analysis & Data Visualizations"
      ]
    },
    {
      "cell_type": "markdown",
      "metadata": {
        "id": "NaPcJbKCJ37m"
      },
      "source": [
        "### Skewed Classes"
      ]
    },
    {
      "cell_type": "code",
      "metadata": {
        "id": "9ZeX2EeRy3Yc",
        "colab": {
          "base_uri": "https://localhost:8080/",
          "height": 382
        },
        "outputId": "091cea33-78d5-4e04-a0ee-269d648e4b19"
      },
      "source": [
        "# Visualize the categorical labels first\n",
        "sns.set(style=\"ticks\", color_codes=True)\n",
        "\n",
        "sns.catplot(x=\"quality\", kind=\"count\", palette=\"ch:.25\", data=wine_df);"
      ],
      "execution_count": 367,
      "outputs": [
        {
          "output_type": "display_data",
          "data": {
            "image/png": "[encoded data removed]",
            "text/plain": [
              "<Figure size 360x360 with 1 Axes>"
            ]
          },
          "metadata": {
            "tags": []
          }
        }
      ]
    },
    {
      "cell_type": "code",
      "metadata": {
        "id": "tCpUYj7LdKRL",
        "colab": {
          "base_uri": "https://localhost:8080/"
        },
        "outputId": "1dee134a-e127-4a0e-adb7-93a59d5ad455"
      },
      "source": [
        "wine_df['quality'].value_counts()"
      ],
      "execution_count": 368,
      "outputs": [
        {
          "output_type": "execute_result",
          "data": {
            "text/plain": [
              "5    681\n",
              "6    638\n",
              "7    199\n",
              "4     53\n",
              "8     18\n",
              "3     10\n",
              "Name: quality, dtype: int64"
            ]
          },
          "metadata": {
            "tags": []
          },
          "execution_count": 368
        }
      ]
    },
    {
      "cell_type": "markdown",
      "metadata": {
        "id": "yRyeZ3iX6MZR"
      },
      "source": [
        "Note that the classes are pretty unenvenly distributed. There are much more normal wines than excellent or poor ones (Need to research more on how to deal with situation). In general seems we got 6 categaories in here from grading 3 - 8."
      ]
    },
    {
      "cell_type": "markdown",
      "metadata": {
        "id": "TEOg-rixJz9p"
      },
      "source": [
        "### Correlation Analysis"
      ]
    },
    {
      "cell_type": "code",
      "metadata": {
        "id": "C-n3hUUzy3dL",
        "colab": {
          "base_uri": "https://localhost:8080/",
          "height": 430
        },
        "outputId": "44677e6a-8176-44d5-b44c-8c8861e102cd"
      },
      "source": [
        "corr = wine_df.corr(method = 'pearson')\n",
        "f, ax = plt.subplots(figsize=(6, 5))\n",
        "cmap = sns.diverging_palette(10, 275, as_cmap=True)\n",
        "\n",
        "sns.heatmap(corr, cmap=cmap, square=True,\n",
        "            linewidths=0.5, cbar_kws={\"shrink\": 0.5}, ax=ax)"
      ],
      "execution_count": 369,
      "outputs": [
        {
          "output_type": "execute_result",
          "data": {
            "text/plain": [
              "<matplotlib.axes._subplots.AxesSubplot at 0x7f4f3814f898>"
            ]
          },
          "metadata": {
            "tags": []
          },
          "execution_count": 369
        },
        {
          "output_type": "display_data",
          "data": {
            "image/png": "[encoded data removed]",
            "text/plain": [
              "<Figure size 432x360 with 2 Axes>"
            ]
          },
          "metadata": {
            "tags": []
          }
        }
      ]
    },
    {
      "cell_type": "markdown",
      "metadata": {
        "id": "4zXMUm3naSLj"
      },
      "source": [
        "Seems PH and fixed acidity, citric acid and PH/volatile acidity have high negtive correlation. Later we can consider to combine these features by apply principal component analysis (PCA). However, for now let's get something quick and dirty working first. However it may be helpful to plot the xy scattet plots for better visualization of the correlations between different features."
      ]
    },
    {
      "cell_type": "markdown",
      "metadata": {
        "id": "y2sVcp9iMf8b"
      },
      "source": [
        "### Plotting Features w.r.t. Labels (Wine Quality)"
      ]
    },
    {
      "cell_type": "markdown",
      "metadata": {
        "id": "4IPabDCFmwDy"
      },
      "source": [
        "A bar plot represents an estimate of central tendency for a numeric variable with the height of each rectangle and provides some indication of the uncertainty around that estimate using error bars."
      ]
    },
    {
      "cell_type": "code",
      "metadata": {
        "id": "Sd4rA3c3P6XT",
        "colab": {
          "base_uri": "https://localhost:8080/",
          "height": 498
        },
        "outputId": "5c521a8e-1a2b-44a9-f8c2-15e1757e8edd"
      },
      "source": [
        "# Creating a 2 x 5 subplot grid\n",
        "figure, axes = plt.subplots(nrows=2, ncols=5, figsize=(20,7))\n",
        "figure.suptitle(\"Plotting Features w.r.t. Labels\")\n",
        "# wspace: the amount of width reserved for space between subplots, expressed as a fraction of the average axis width\n",
        "# hspace; the amount of height reserved for space between subplots, expressed as a fraction of the average axis height\n",
        "figure.subplots_adjust(hspace=0.4, wspace= 0.4)\n",
        "\n",
        "# Using for loop to interate through different features and plot its barplot against wine \"quality\" feature (categorical data)\n",
        "for i in range(2):\n",
        "  for j in range(5):\n",
        "    sns.barplot(ax=axes[i,j], x='quality', y=wine_df.columns[i*5 + j], data = wine_df)\n"
      ],
      "execution_count": 370,
      "outputs": [
        {
          "output_type": "display_data",
          "data": {
            "image/png": "[encoded data removed]",
            "text/plain": [
              "<Figure size 1440x504 with 10 Axes>"
            ]
          },
          "metadata": {
            "tags": []
          }
        }
      ]
    },
    {
      "cell_type": "markdown",
      "metadata": {
        "id": "HzyPqOMCp-52"
      },
      "source": [
        "From the barplots above we see features like \"fixed acidity\", \"residual sugar\", \"density\", \"PH\" have almost no effect on predicting the quality of wine. We'll take out feature \"density\" in here since it does not have any correlation wrt wine quality."
      ]
    },
    {
      "cell_type": "markdown",
      "metadata": {
        "id": "bkZTlat0qRv8"
      },
      "source": [
        "## Data Preprocessing"
      ]
    },
    {
      "cell_type": "markdown",
      "metadata": {
        "id": "86yxDB5sKY_t"
      },
      "source": [
        "### Feature Seletion (Univarite selection)"
      ]
    },
    {
      "cell_type": "code",
      "metadata": {
        "colab": {
          "base_uri": "https://localhost:8080/"
        },
        "id": "fHK2Atl0KkHi",
        "outputId": "33a8a6fd-8ff6-451f-f3b3-6498612f3757"
      },
      "source": [
        "from sklearn.feature_selection import  SelectKBest\r\n",
        "from sklearn.feature_selection import  chi2\r\n",
        "\r\n",
        "#apply SelectKBest class to extract top 10 best features\r\n",
        "best_features = SelectKBest(score_func = chi2, k = 10)\r\n",
        "fit = best_features.fit(X, y)\r\n",
        "dfscores = pd.DataFrame(fit.scores_)\r\n",
        "dfcolumns = pd.DataFrame(X.columns)\r\n",
        "#concat two dataframes for better visualization \r\n",
        "featureScores = pd.concat([dfcolumns,dfscores],axis=1)\r\n",
        "featureScores.columns = ['Specs','Score']  #naming the dataframe columns\r\n",
        "print(featureScores.nlargest(10,'Score'))  #print 10 best features"
      ],
      "execution_count": 371,
      "outputs": [
        {
          "output_type": "stream",
          "text": [
            "                   Specs        Score\n",
            "6   total sulfur dioxide  2755.557984\n",
            "5    free sulfur dioxide   161.936036\n",
            "10               alcohol    46.429892\n",
            "1       volatile acidity    15.580289\n",
            "2            citric acid    13.025665\n",
            "0          fixed acidity    11.260652\n",
            "9              sulphates     4.558488\n",
            "3         residual sugar     4.123295\n",
            "4              chlorides     0.752426\n",
            "8                     pH     0.154655\n"
          ],
          "name": "stdout"
        }
      ]
    },
    {
      "cell_type": "markdown",
      "metadata": {
        "id": "Xwg9NHMX-YHh"
      },
      "source": [
        "### Drop irrelevant features"
      ]
    },
    {
      "cell_type": "markdown",
      "metadata": {
        "id": "J2fzr7-PrDI7"
      },
      "source": [
        "We'll drop \"density\" column as we discussed in the exploratory analysis section and keep the rest data the same. We will also drops 'sulphates', 'residual sugar', 'chlorides', 'pH' which scored less than 10"
      ]
    },
    {
      "cell_type": "code",
      "metadata": {
        "id": "_l47bN0kre43",
        "colab": {
          "base_uri": "https://localhost:8080/",
          "height": 198
        },
        "outputId": "d40af46f-5754-4065-a3ed-e387de0bae09"
      },
      "source": [
        "wine_df = wine_df.drop(labels=['density','sulphates', 'residual sugar', 'chlorides', 'pH'], axis=1)\n",
        "wine_df.head()"
      ],
      "execution_count": 372,
      "outputs": [
        {
          "output_type": "execute_result",
          "data": {
            "text/html": [
              "<div>\n",
              "<style scoped>\n",
              "    .dataframe tbody tr th:only-of-type {\n",
              "        vertical-align: middle;\n",
              "    }\n",
              "\n",
              "    .dataframe tbody tr th {\n",
              "        vertical-align: top;\n",
              "    }\n",
              "\n",
              "    .dataframe thead th {\n",
              "        text-align: right;\n",
              "    }\n",
              "</style>\n",
              "<table border=\"1\" class=\"dataframe\">\n",
              "  <thead>\n",
              "    <tr style=\"text-align: right;\">\n",
              "      <th></th>\n",
              "      <th>fixed acidity</th>\n",
              "      <th>volatile acidity</th>\n",
              "      <th>citric acid</th>\n",
              "      <th>free sulfur dioxide</th>\n",
              "      <th>total sulfur dioxide</th>\n",
              "      <th>alcohol</th>\n",
              "      <th>quality</th>\n",
              "    </tr>\n",
              "  </thead>\n",
              "  <tbody>\n",
              "    <tr>\n",
              "      <th>0</th>\n",
              "      <td>7.4</td>\n",
              "      <td>0.70</td>\n",
              "      <td>0.00</td>\n",
              "      <td>11.0</td>\n",
              "      <td>34.0</td>\n",
              "      <td>9.4</td>\n",
              "      <td>5</td>\n",
              "    </tr>\n",
              "    <tr>\n",
              "      <th>1</th>\n",
              "      <td>7.8</td>\n",
              "      <td>0.88</td>\n",
              "      <td>0.00</td>\n",
              "      <td>25.0</td>\n",
              "      <td>67.0</td>\n",
              "      <td>9.8</td>\n",
              "      <td>5</td>\n",
              "    </tr>\n",
              "    <tr>\n",
              "      <th>2</th>\n",
              "      <td>7.8</td>\n",
              "      <td>0.76</td>\n",
              "      <td>0.04</td>\n",
              "      <td>15.0</td>\n",
              "      <td>54.0</td>\n",
              "      <td>9.8</td>\n",
              "      <td>5</td>\n",
              "    </tr>\n",
              "    <tr>\n",
              "      <th>3</th>\n",
              "      <td>11.2</td>\n",
              "      <td>0.28</td>\n",
              "      <td>0.56</td>\n",
              "      <td>17.0</td>\n",
              "      <td>60.0</td>\n",
              "      <td>9.8</td>\n",
              "      <td>6</td>\n",
              "    </tr>\n",
              "    <tr>\n",
              "      <th>4</th>\n",
              "      <td>7.4</td>\n",
              "      <td>0.70</td>\n",
              "      <td>0.00</td>\n",
              "      <td>11.0</td>\n",
              "      <td>34.0</td>\n",
              "      <td>9.4</td>\n",
              "      <td>5</td>\n",
              "    </tr>\n",
              "  </tbody>\n",
              "</table>\n",
              "</div>"
            ],
            "text/plain": [
              "   fixed acidity  volatile acidity  ...  alcohol  quality\n",
              "0            7.4              0.70  ...      9.4        5\n",
              "1            7.8              0.88  ...      9.8        5\n",
              "2            7.8              0.76  ...      9.8        5\n",
              "3           11.2              0.28  ...      9.8        6\n",
              "4            7.4              0.70  ...      9.4        5\n",
              "\n",
              "[5 rows x 7 columns]"
            ]
          },
          "metadata": {
            "tags": []
          },
          "execution_count": 372
        }
      ]
    },
    {
      "cell_type": "markdown",
      "metadata": {
        "id": "sE-lCT9uKeoW"
      },
      "source": [
        "Initial thought was one hot encode wine quality and train 6 binary classification models to apply one vs. all. However, sklearn has the parameter in their classification fit methods that allows categorical multi-label classes"
      ]
    },
    {
      "cell_type": "markdown",
      "metadata": {
        "id": "2EeCndG0nNQ0"
      },
      "source": [
        "### Splitting into Training/Test Sets"
      ]
    },
    {
      "cell_type": "markdown",
      "metadata": {
        "id": "fY9FCXjBugKN"
      },
      "source": [
        ""
      ]
    },
    {
      "cell_type": "code",
      "metadata": {
        "id": "PJeqg3Jblrd7",
        "colab": {
          "base_uri": "https://localhost:8080/"
        },
        "outputId": "f1277c6d-7c0e-4e16-e27f-4a346a61502d"
      },
      "source": [
        "# Allowed inputs are lists, numpy arrays, scipy-sparse matrices or pandas dataframes\n",
        "X_train, X_test, y_train, y_test = train_test_split(X, y, test_size = 0.3, random_state = 1)\n",
        "print(\"The shape of splitted X_train set is:\")\n",
        "print(X_train.shape)\n",
        "print(type(X_train))"
      ],
      "execution_count": 373,
      "outputs": [
        {
          "output_type": "stream",
          "text": [
            "The shape of splitted X_train set is:\n",
            "(1119, 11)\n",
            "<class 'pandas.core.frame.DataFrame'>\n"
          ],
          "name": "stdout"
        }
      ]
    },
    {
      "cell_type": "code",
      "metadata": {
        "id": "mIj3KDgJ9_WN",
        "colab": {
          "base_uri": "https://localhost:8080/",
          "height": 198
        },
        "outputId": "64f8c22b-44d0-4d02-85df-4b40f2344e4c"
      },
      "source": [
        "# Note the training samples (random indices) were randomly selected\n",
        "X_train.head()"
      ],
      "execution_count": 374,
      "outputs": [
        {
          "output_type": "execute_result",
          "data": {
            "text/html": [
              "<div>\n",
              "<style scoped>\n",
              "    .dataframe tbody tr th:only-of-type {\n",
              "        vertical-align: middle;\n",
              "    }\n",
              "\n",
              "    .dataframe tbody tr th {\n",
              "        vertical-align: top;\n",
              "    }\n",
              "\n",
              "    .dataframe thead th {\n",
              "        text-align: right;\n",
              "    }\n",
              "</style>\n",
              "<table border=\"1\" class=\"dataframe\">\n",
              "  <thead>\n",
              "    <tr style=\"text-align: right;\">\n",
              "      <th></th>\n",
              "      <th>fixed acidity</th>\n",
              "      <th>volatile acidity</th>\n",
              "      <th>citric acid</th>\n",
              "      <th>residual sugar</th>\n",
              "      <th>chlorides</th>\n",
              "      <th>free sulfur dioxide</th>\n",
              "      <th>total sulfur dioxide</th>\n",
              "      <th>density</th>\n",
              "      <th>pH</th>\n",
              "      <th>sulphates</th>\n",
              "      <th>alcohol</th>\n",
              "    </tr>\n",
              "  </thead>\n",
              "  <tbody>\n",
              "    <tr>\n",
              "      <th>126</th>\n",
              "      <td>8.2</td>\n",
              "      <td>1.330</td>\n",
              "      <td>0.00</td>\n",
              "      <td>1.7</td>\n",
              "      <td>0.081</td>\n",
              "      <td>3.0</td>\n",
              "      <td>12.0</td>\n",
              "      <td>0.99640</td>\n",
              "      <td>3.53</td>\n",
              "      <td>0.49</td>\n",
              "      <td>10.9</td>\n",
              "    </tr>\n",
              "    <tr>\n",
              "      <th>810</th>\n",
              "      <td>7.3</td>\n",
              "      <td>0.490</td>\n",
              "      <td>0.10</td>\n",
              "      <td>2.6</td>\n",
              "      <td>0.068</td>\n",
              "      <td>4.0</td>\n",
              "      <td>14.0</td>\n",
              "      <td>0.99562</td>\n",
              "      <td>3.30</td>\n",
              "      <td>0.47</td>\n",
              "      <td>10.5</td>\n",
              "    </tr>\n",
              "    <tr>\n",
              "      <th>635</th>\n",
              "      <td>8.7</td>\n",
              "      <td>0.840</td>\n",
              "      <td>0.00</td>\n",
              "      <td>1.4</td>\n",
              "      <td>0.065</td>\n",
              "      <td>24.0</td>\n",
              "      <td>33.0</td>\n",
              "      <td>0.99540</td>\n",
              "      <td>3.27</td>\n",
              "      <td>0.55</td>\n",
              "      <td>9.7</td>\n",
              "    </tr>\n",
              "    <tr>\n",
              "      <th>598</th>\n",
              "      <td>8.5</td>\n",
              "      <td>0.585</td>\n",
              "      <td>0.18</td>\n",
              "      <td>2.1</td>\n",
              "      <td>0.078</td>\n",
              "      <td>5.0</td>\n",
              "      <td>30.0</td>\n",
              "      <td>0.99670</td>\n",
              "      <td>3.20</td>\n",
              "      <td>0.48</td>\n",
              "      <td>9.8</td>\n",
              "    </tr>\n",
              "    <tr>\n",
              "      <th>880</th>\n",
              "      <td>9.2</td>\n",
              "      <td>0.560</td>\n",
              "      <td>0.18</td>\n",
              "      <td>1.6</td>\n",
              "      <td>0.078</td>\n",
              "      <td>10.0</td>\n",
              "      <td>21.0</td>\n",
              "      <td>0.99576</td>\n",
              "      <td>3.15</td>\n",
              "      <td>0.49</td>\n",
              "      <td>9.9</td>\n",
              "    </tr>\n",
              "  </tbody>\n",
              "</table>\n",
              "</div>"
            ],
            "text/plain": [
              "     fixed acidity  volatile acidity  citric acid  ...    pH  sulphates  alcohol\n",
              "126            8.2             1.330         0.00  ...  3.53       0.49     10.9\n",
              "810            7.3             0.490         0.10  ...  3.30       0.47     10.5\n",
              "635            8.7             0.840         0.00  ...  3.27       0.55      9.7\n",
              "598            8.5             0.585         0.18  ...  3.20       0.48      9.8\n",
              "880            9.2             0.560         0.18  ...  3.15       0.49      9.9\n",
              "\n",
              "[5 rows x 11 columns]"
            ]
          },
          "metadata": {
            "tags": []
          },
          "execution_count": 374
        }
      ]
    },
    {
      "cell_type": "markdown",
      "metadata": {
        "id": "NYrpRCS8ca4D"
      },
      "source": [
        "### Oversampling Minority Classes (2nd Iteration)"
      ]
    },
    {
      "cell_type": "markdown",
      "metadata": {
        "id": "cE0aid00c7aJ"
      },
      "source": [
        "Note we only oversampling the minority classes on our training set, not test set."
      ]
    },
    {
      "cell_type": "code",
      "metadata": {
        "id": "us4qC0n_f6Qg",
        "colab": {
          "base_uri": "https://localhost:8080/"
        },
        "outputId": "5e725b82-b4b4-4ef4-ea8d-0bce4e21a010"
      },
      "source": [
        "# Our goal to is oversample wine quality 3,4,6,7,8 to have the same samples as the most common wine quality (label) 5 i.e. 456 samples\n",
        "unique_elements, counts_elements = np.unique(y_train, return_counts=True)\n",
        "print(\"Frequency of unique values of the wine quality array:\")\n",
        "\n",
        "y_train.value_counts()"
      ],
      "execution_count": 375,
      "outputs": [
        {
          "output_type": "stream",
          "text": [
            "Frequency of unique values of the wine quality array:\n"
          ],
          "name": "stdout"
        },
        {
          "output_type": "execute_result",
          "data": {
            "text/plain": [
              "5    474\n",
              "6    443\n",
              "7    147\n",
              "4     32\n",
              "8     15\n",
              "3      8\n",
              "Name: quality, dtype: int64"
            ]
          },
          "metadata": {
            "tags": []
          },
          "execution_count": 375
        }
      ]
    },
    {
      "cell_type": "code",
      "metadata": {
        "id": "O_MJdNzicgvg",
        "colab": {
          "base_uri": "https://localhost:8080/"
        },
        "outputId": "a6e6062c-9eec-4750-fda6-72a7033aec59"
      },
      "source": [
        "#combine them back for resampling\n",
        "train_data = pd.concat([X_train, y_train], axis=1)\n",
        "\n",
        "# separate minority and majority classes\n",
        "quality_3 = train_data[train_data.quality==3]\n",
        "quality_4 = train_data[train_data.quality==4]\n",
        "quality_5 = train_data[train_data.quality==5]\n",
        "quality_6 = train_data[train_data.quality==6]\n",
        "quality_7 = train_data[train_data.quality==7]\n",
        "quality_8 = train_data[train_data.quality==8]\n",
        "\n",
        "# upsample minority\n",
        "quality_3_upsampled = resample(quality_3, replace=True, # sample with replacement\n",
        "                    n_samples=len(quality_7), # match number in majority class 456 samples in this case\n",
        "                    random_state=None) # reproducible results\n",
        "\n",
        "quality_4_upsampled = resample(quality_4, replace=True, # sample with replacement\n",
        "                    n_samples=len(quality_7), # match number in majority class 456 samples in this case\n",
        "                    random_state=None) # reproducible results\n",
        "\n",
        "quality_6_upsampled = resample(quality_6, replace=True, # sample with replacement\n",
        "                    n_samples=len(quality_6), # match number in majority class 456 samples in this case\n",
        "                    random_state=None) # reproducible results\n",
        "\n",
        "quality_7_upsampled = resample(quality_7, replace=True, # sample with replacement\n",
        "                    n_samples=len(quality_7), # match number in majority class 456 samples in this case\n",
        "                    random_state=None) # reproducible results\n",
        "\n",
        "quality_8_upsampled = resample(quality_8, replace=True, # sample with replacement\n",
        "                    n_samples=len(quality_7), # match number in majority class 456 samples in this case\n",
        "                    random_state=None) # reproducible results\n",
        "\n",
        "# combine majority and upsampled minority\n",
        "upsampled = pd.concat([quality_5, quality_6_upsampled, quality_7_upsampled, quality_3_upsampled, quality_4_upsampled, quality_8_upsampled], axis=0) #axis=0 append vertically (i.e. row)\n",
        "\n",
        "\n",
        "print(\"Frequency of unique values of the wine quality array after oversampling:\")\n",
        "upsampled.quality.value_counts()"
      ],
      "execution_count": 376,
      "outputs": [
        {
          "output_type": "stream",
          "text": [
            "Frequency of unique values of the wine quality array after oversampling:\n"
          ],
          "name": "stdout"
        },
        {
          "output_type": "execute_result",
          "data": {
            "text/plain": [
              "5    474\n",
              "6    443\n",
              "8    147\n",
              "7    147\n",
              "4    147\n",
              "3    147\n",
              "Name: quality, dtype: int64"
            ]
          },
          "metadata": {
            "tags": []
          },
          "execution_count": 376
        }
      ]
    },
    {
      "cell_type": "code",
      "metadata": {
        "id": "7omphm53hpaL"
      },
      "source": [
        "X_train = upsampled.iloc[:, :-1]\n",
        "y_train = upsampled.iloc[:, -1]"
      ],
      "execution_count": 377,
      "outputs": []
    },
    {
      "cell_type": "markdown",
      "metadata": {
        "id": "bxJpa7W3lxnf"
      },
      "source": [
        "### Feature Scaling"
      ]
    },
    {
      "cell_type": "code",
      "metadata": {
        "id": "uQmjEYvwnT5x"
      },
      "source": [
        "from sklearn.preprocessing import StandardScaler\n",
        "scaler = StandardScaler()\n",
        "\n",
        "# fit_tranform call .fit() to compute the mean and std deviation for later use \n",
        "# Note: the return type of .fit_transform is ndarray\n",
        "X_train = scaler.fit_transform(X_train)\n",
        "# No need to call fit_transform again since the params have been computed in the previous line\n",
        "X_test = scaler.transform(X_test)"
      ],
      "execution_count": 378,
      "outputs": []
    },
    {
      "cell_type": "code",
      "metadata": {
        "id": "_ovJc-3inUAj",
        "colab": {
          "base_uri": "https://localhost:8080/"
        },
        "outputId": "5f54e606-12f0-43a8-8c14-81e4a3fd8909"
      },
      "source": [
        "print(X_train.shape)\n",
        "print(type(X_train))"
      ],
      "execution_count": 379,
      "outputs": [
        {
          "output_type": "stream",
          "text": [
            "(1505, 11)\n",
            "<class 'numpy.ndarray'>\n"
          ],
          "name": "stdout"
        }
      ]
    },
    {
      "cell_type": "markdown",
      "metadata": {
        "id": "FcS8qB6Q1XIo"
      },
      "source": [
        "## Trian Models"
      ]
    },
    {
      "cell_type": "markdown",
      "metadata": {
        "id": "k9decHRqpT0T"
      },
      "source": [
        "### Logistic Regression\n",
        "\n",
        "\n"
      ]
    },
    {
      "cell_type": "code",
      "metadata": {
        "id": "5MvPQyfupULK",
        "colab": {
          "base_uri": "https://localhost:8080/"
        },
        "outputId": "8618263c-ab58-4b7f-da21-24810312371f"
      },
      "source": [
        "from sklearn.linear_model import LogisticRegression\n",
        "\n",
        "# No params are passing in here into the LogisticRegression class (i.e. no tuning)\n",
        "logReg_clf = LogisticRegression(random_state = 0, multi_class='ovr', max_iter=10000).fit(X_train, y_train)\n",
        "y_pred_log = logReg_clf.predict(X_test)\n",
        "print(classification_report(y_test, y_pred_log))"
      ],
      "execution_count": 380,
      "outputs": [
        {
          "output_type": "stream",
          "text": [
            "              precision    recall  f1-score   support\n",
            "\n",
            "           3       0.06      0.50      0.10         2\n",
            "           4       0.00      0.00      0.00        21\n",
            "           5       0.66      0.73      0.70       207\n",
            "           6       0.58      0.55      0.57       195\n",
            "           7       0.43      0.06      0.10        52\n",
            "           8       0.03      0.33      0.06         3\n",
            "\n",
            "    accuracy                           0.55       480\n",
            "   macro avg       0.29      0.36      0.25       480\n",
            "weighted avg       0.57      0.55      0.54       480\n",
            "\n"
          ],
          "name": "stdout"
        }
      ]
    },
    {
      "cell_type": "markdown",
      "metadata": {
        "id": "Ir3Pwxya1eUK"
      },
      "source": [
        "### SVM"
      ]
    },
    {
      "cell_type": "code",
      "metadata": {
        "id": "FFAYhU1d2Xq-",
        "colab": {
          "base_uri": "https://localhost:8080/"
        },
        "outputId": "715a3f84-74e1-443f-9a25-d23ae6faf84f"
      },
      "source": [
        "# linear SVM \n",
        "from sklearn.svm import LinearSVC\n",
        "\n",
        "svm_clf = LinearSVC(random_state = 0, multi_class='ovr', max_iter=10000, class_weight=None).fit(X_train, y_train)\n",
        "\n",
        "# kernel SVM \n",
        "from sklearn.svm import SVC\n",
        "kernel_svm_clf = SVC(random_state=0, kernel = 'poly', decision_function_shape='ovr', max_iter=-1, class_weight=None).fit(X_train, y_train)\n",
        "\n",
        "# predit the test data and generating report\n",
        "y_pred_svm = svm_clf.predict(X_test)\n",
        "y_pred_kernel_svm = kernel_svm_clf.predict(X_test)\n",
        "print(classification_report(y_test, y_pred_svm))\n",
        "print(classification_report(y_test, y_pred_kernel_svm))"
      ],
      "execution_count": 386,
      "outputs": [
        {
          "output_type": "stream",
          "text": [
            "              precision    recall  f1-score   support\n",
            "\n",
            "           3       0.05      0.50      0.08         2\n",
            "           4       0.00      0.00      0.00        21\n",
            "           5       0.63      0.74      0.68       207\n",
            "           6       0.54      0.47      0.50       195\n",
            "           7       0.00      0.00      0.00        52\n",
            "           8       0.02      0.33      0.05         3\n",
            "\n",
            "    accuracy                           0.51       480\n",
            "   macro avg       0.21      0.34      0.22       480\n",
            "weighted avg       0.49      0.51      0.50       480\n",
            "\n",
            "              precision    recall  f1-score   support\n",
            "\n",
            "           3       0.00      0.00      0.00         2\n",
            "           4       0.22      0.10      0.13        21\n",
            "           5       0.64      0.74      0.69       207\n",
            "           6       0.58      0.62      0.60       195\n",
            "           7       0.65      0.21      0.32        52\n",
            "           8       0.00      0.00      0.00         3\n",
            "\n",
            "    accuracy                           0.60       480\n",
            "   macro avg       0.35      0.28      0.29       480\n",
            "weighted avg       0.59      0.60      0.58       480\n",
            "\n"
          ],
          "name": "stdout"
        }
      ]
    },
    {
      "cell_type": "markdown",
      "metadata": {
        "id": "_0DGDaaM1hkl"
      },
      "source": [
        "### K-NN"
      ]
    },
    {
      "cell_type": "code",
      "metadata": {
        "id": "Ymg_2C_b3tNB",
        "colab": {
          "base_uri": "https://localhost:8080/"
        },
        "outputId": "c8daa63a-89a5-4bf3-ef59-f77a0b315564"
      },
      "source": [
        "from sklearn.neighbors import KNeighborsClassifier\n",
        "knn_clf = KNeighborsClassifier(n_neighbors=6)\n",
        "knn_clf.fit(X_train, y_train)\n",
        "\n",
        "# predit the test data and generating report\n",
        "y_pred_knn = knn_clf.predict(X_test)\n",
        "print(classification_report(y_test, y_pred_knn))"
      ],
      "execution_count": 382,
      "outputs": [
        {
          "output_type": "stream",
          "text": [
            "              precision    recall  f1-score   support\n",
            "\n",
            "           3       0.17      0.50      0.25         2\n",
            "           4       0.08      0.10      0.09        21\n",
            "           5       0.62      0.68      0.65       207\n",
            "           6       0.55      0.46      0.50       195\n",
            "           7       0.33      0.23      0.27        52\n",
            "           8       0.04      0.33      0.07         3\n",
            "\n",
            "    accuracy                           0.51       480\n",
            "   macro avg       0.30      0.38      0.30       480\n",
            "weighted avg       0.53      0.51      0.52       480\n",
            "\n"
          ],
          "name": "stdout"
        }
      ]
    },
    {
      "cell_type": "markdown",
      "metadata": {
        "id": "_T8ybbcgqfQr"
      },
      "source": [
        "## Predicting the Test Set Results"
      ]
    },
    {
      "cell_type": "markdown",
      "metadata": {
        "id": "CDUikc8syBID"
      },
      "source": [
        "The f1-score gives us the harmonic mean of precision and recall. The scores corresponding to every class will tell us the accuracy of the classifier in classifying the data points in that particular class compared to all other classes.\n",
        "\n",
        "The support is the number of samples we have for each class.\n",
        "\n",
        "Since we have severly skewed classes. Accuracy may not be a good choice of metric of measuring the model performance. We'll use F1-score as our metric.\n",
        "\n",
        "\n",
        "\n"
      ]
    }
  ]
}