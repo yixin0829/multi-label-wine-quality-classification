{
  "nbformat": 4,
  "nbformat_minor": 0,
  "metadata": {
    "colab": {
      "name": "Wine_Quality_Multi_Classification.ipynb",
      "provenance": [],
      "collapsed_sections": []
    },
    "kernelspec": {
      "name": "python3",
      "display_name": "Python 3"
    }
  },
  "cells": [
    {
      "cell_type": "markdown",
      "metadata": {
        "id": "VWmi1zEYihhH"
      },
      "source": [
        "# Multi-Label Wine Quality Classification\n",
        "\n",
        "\n",
        "---\n",
        "\n",
        "\n",
        "\n",
        "\n",
        "\n"
      ]
    },
    {
      "cell_type": "code",
      "metadata": {
        "id": "rZKYQoLzFIgr",
        "outputId": "d5952cd6-752c-4b75-9181-2c66e0c49d41",
        "colab": {
          "base_uri": "https://localhost:8080/",
          "height": 34
        }
      },
      "source": [
        "from google.colab import drive\n",
        "drive.mount('/content/drive')"
      ],
      "execution_count": 1,
      "outputs": [
        {
          "output_type": "stream",
          "text": [
            "Mounted at /content/drive\n"
          ],
          "name": "stdout"
        }
      ]
    },
    {
      "cell_type": "markdown",
      "metadata": {
        "id": "jtXxFyjXoicP"
      },
      "source": [
        "## Context & Workflow in Mind\n",
        "The dataset is pulled through Kaggle API. The dataset is related to red variants of the Portuguese \"Vinho Verde\" wine. For more details, consult the reference [Cortez et al., 2009]."
      ]
    },
    {
      "cell_type": "markdown",
      "metadata": {
        "id": "pP_f_wGxoYCn"
      },
      "source": [
        "### **Tools & Models**\n",
        "\n",
        "\n",
        "**The plan** is to use the dataset to train some multi-label classification models using different ML models and compare their performance + analyze why they differentiate: \n",
        "\n",
        "\n",
        "*   Logistic regression\n",
        "*   K-NN\n",
        "*   SVM\n",
        "\n"
      ]
    },
    {
      "cell_type": "markdown",
      "metadata": {
        "id": "q62uTGBBotA9"
      },
      "source": [
        "### **Workflow**\n",
        "\n",
        "\n",
        "\n",
        "*   Import libraries & data\n",
        "*   Exploratory analysis & Data visualization\n",
        "*   Data preprocessing\n",
        "*   Rapid prototyping (train a logistic regression classifer with one vs. all method)\n",
        "*   Feature engineering\n",
        "*   Interating for better accuracy"
      ]
    },
    {
      "cell_type": "markdown",
      "metadata": {
        "id": "J2NAE4Uhp-hs"
      },
      "source": [
        "## Import Libararies"
      ]
    },
    {
      "cell_type": "code",
      "metadata": {
        "id": "CtxQvsGliVcA",
        "outputId": "da8453f4-122f-4b84-aa2a-33538fd700f1",
        "colab": {
          "base_uri": "https://localhost:8080/",
          "height": 72
        }
      },
      "source": [
        "import numpy as np\n",
        "import pandas as pd\n",
        "import seaborn as sns\n",
        "import matplotlib.pyplot as plt\n"
      ],
      "execution_count": 4,
      "outputs": [
        {
          "output_type": "stream",
          "text": [
            "/usr/local/lib/python3.6/dist-packages/statsmodels/tools/_testing.py:19: FutureWarning: pandas.util.testing is deprecated. Use the functions in the public API at pandas.testing instead.\n",
            "  import pandas.util.testing as tm\n"
          ],
          "name": "stderr"
        }
      ]
    },
    {
      "cell_type": "markdown",
      "metadata": {
        "id": "vqMxeS4TC57T"
      },
      "source": [
        "### Use the right version of TensorFlow\n",
        "The following hidden code cell ensures that the Colab will run on TensorFlow 2X."
      ]
    },
    {
      "cell_type": "code",
      "metadata": {
        "id": "_1K99Li90CnF",
        "cellView": "form"
      },
      "source": [
        "#@title Run on TensorFlow 2.x\n",
        "%tensorflow_version 2.x"
      ],
      "execution_count": null,
      "outputs": []
    },
    {
      "cell_type": "markdown",
      "metadata": {
        "id": "uLIT2FVYurRZ"
      },
      "source": [
        "## Downloading dataset (Kaggle API)\n",
        "\n",
        "Not sure comparing with downloading dataset from Kaggle which method is better. My understanding is using API might just demostrate a bit more knowledge of API and also can indicate the data source. The down side could be I'm exposing my user name and token?"
      ]
    },
    {
      "cell_type": "code",
      "metadata": {
        "id": "FJ_l4YN-qeQt",
        "cellView": "both",
        "outputId": "2a1628ed-2fbc-4c18-d6b9-6195614a6689",
        "colab": {
          "base_uri": "https://localhost:8080/",
          "height": 34
        }
      },
      "source": [
        "#@title Setting up Kaggle API\n",
        "#!pip install kaggle\n",
        "!rm -r .kaggle\n",
        "!mkdir .kaggle\n",
        "\n",
        "import json\n",
        "token = {\"username\":\"MY USER NAME\",\"key\":\"<KEY>\"}\n",
        "with open('/content/.kaggle/kaggle.json', 'w') as file:\n",
        "  json.dump(token, file)\n",
        "\n",
        "!cp /content/.kaggle/kaggle.json ~/.kaggle/kaggle.json\n",
        "!kaggle config set -n path -v{/content}\n",
        "!chmod 600 /root/.kaggle/kaggle.json"
      ],
      "execution_count": null,
      "outputs": [
        {
          "output_type": "stream",
          "text": [
            "- path is now set to: {/content}\n"
          ],
          "name": "stdout"
        }
      ]
    },
    {
      "cell_type": "code",
      "metadata": {
        "id": "iRX8IYhgq8tK",
        "outputId": "a036432a-25e4-48cc-d1ac-a9b7dc6c3820",
        "colab": {
          "base_uri": "https://localhost:8080/",
          "height": 418
        }
      },
      "source": [
        "# Downloading dataset from Kaggle\n",
        "#@title Viewing datasets from Kaggle\n",
        "!kaggle datasets list -s Red"
      ],
      "execution_count": null,
      "outputs": [
        {
          "output_type": "stream",
          "text": [
            "Warning: Looks like you're using an outdated API Version, please consider updating (server 1.5.6 / client 1.5.4)\n",
            "ref                                              title                                         size  lastUpdated          downloadCount  \n",
            "-----------------------------------------------  -------------------------------------------  -----  -------------------  -------------  \n",
            "uciml/red-wine-quality-cortez-et-al-2009         Red Wine Quality                              26KB  2017-11-27 23:41:08          51748  \n",
            "piyushgoyal443/red-wine-dataset                  Red Wine Dataset                              29KB  2017-03-05 03:38:35           6036  \n",
            "unanimad/dataisbeautiful                         Reddit - Data is Beautiful                    12MB  2020-06-19 11:33:00           3383  \n",
            "danofer/sarcasm                                  Sarcasm on Reddit                            216MB  2018-05-27 08:19:04           4842  \n",
            "sayangoswami/reddit-memes-dataset                Reddit Memes Dataset                         634MB  2018-04-16 19:13:18           2230  \n",
            "reddit/reddit-comments-may-2015                  May 2015 Reddit Comments                      20GB  2019-06-04 10:06:44           8221  \n",
            "moltean/fruits                                   Fruits 360                                   760MB  2020-05-18 10:35:15          47887  \n",
            "chicago/chicago-red-light-and-speed-camera-data  Chicago Red Light and Speed Camera Data       37MB  2019-12-05 22:54:53           2716  \n",
            "residentmario/things-on-reddit                   Things on Reddit                              16MB  2017-10-26 14:10:15           4686  \n",
            "sherinclaudia/sarcastic-comments-on-reddit       Sarcastic Comments - REDDIT                  106MB  2019-01-30 14:41:53           1954  \n",
            "amalinow/donald-trump-comments-on-reddit         Donald Trump Comments on Reddit                7MB  2017-08-31 16:40:28           1112  \n",
            "chicagopolice/chicago-red-light-violations       Chicago Red Light Violations                   9MB  2017-09-12 18:07:04            372  \n",
            "rajeevw/ufcdata                                  UFC-Fight historical data from 1993 to 2019    3MB  2019-07-05 09:58:02          17575  \n",
            "numberswithkartik/red-white-wine-dataset         Red & White wine Dataset                      98KB  2017-11-09 19:55:19            798  \n",
            "rootuser/worldnews-on-reddit                     Worldnews on Reddit from 2008 to Today        27MB  2016-11-22 17:35:02           2056  \n",
            "mswarbrickjones/reddit-selfposts                 The reddit self-post classification task     352MB  2018-10-16 20:57:19           1418  \n",
            "mdabbert/ultimate-ufc-dataset                    Ultimate UFC Dataset                         535KB  2020-08-13 13:46:41            840  \n",
            "colinmorris/reddit-usernames                     Reddit Usernames                             213MB  2017-12-08 03:22:53            654  \n",
            "sh6147782/winequalityred                         winequality-red                               24KB  2018-10-28 11:11:29            264  \n",
            "phiitm/reddit-india-flair-detector               Reddit India Flair Detector                   48MB  2020-04-27 20:27:24            124  \n"
          ],
          "name": "stdout"
        }
      ]
    },
    {
      "cell_type": "code",
      "metadata": {
        "id": "A1cHZhz_rcdQ",
        "outputId": "11114ad7-87d1-48d1-8b53-c7e6caf7cc07",
        "colab": {
          "base_uri": "https://localhost:8080/",
          "height": 104
        }
      },
      "source": [
        "# Copy the API key from Kaggle and set the path -p\n",
        "!kaggle datasets download -d uciml/red-wine-quality-cortez-et-al-2009 -p /content/\n",
        "\n",
        "# Unzip the datasets just downloaded\n",
        "!unzip \\*.zip\n",
        "# Remove the extra .zip file\n",
        "!rm /content/*.zip"
      ],
      "execution_count": null,
      "outputs": [
        {
          "output_type": "stream",
          "text": [
            "Downloading red-wine-quality-cortez-et-al-2009.zip to /content\n",
            "\r  0% 0.00/25.6k [00:00<?, ?B/s]\n",
            "\r100% 25.6k/25.6k [00:00<00:00, 10.2MB/s]\n",
            "Archive:  red-wine-quality-cortez-et-al-2009.zip\n",
            "  inflating: winequality-red.csv     \n"
          ],
          "name": "stdout"
        }
      ]
    },
    {
      "cell_type": "markdown",
      "metadata": {
        "id": "FLWdaU7EvEt5"
      },
      "source": [
        "## Importing Dataset"
      ]
    },
    {
      "cell_type": "code",
      "metadata": {
        "id": "diMYh1tMu0JX",
        "outputId": "52d69d1f-3517-467f-e0e2-ae10de0cb574",
        "colab": {
          "base_uri": "https://localhost:8080/",
          "height": 196
        }
      },
      "source": [
        "wine_df = pd.read_csv(\"./drive/My Drive/Multi-label Wine Quality Classification/winequality-red.csv\")\n",
        "wine_df.head()"
      ],
      "execution_count": 5,
      "outputs": [
        {
          "output_type": "execute_result",
          "data": {
            "text/html": [
              "<div>\n",
              "<style scoped>\n",
              "    .dataframe tbody tr th:only-of-type {\n",
              "        vertical-align: middle;\n",
              "    }\n",
              "\n",
              "    .dataframe tbody tr th {\n",
              "        vertical-align: top;\n",
              "    }\n",
              "\n",
              "    .dataframe thead th {\n",
              "        text-align: right;\n",
              "    }\n",
              "</style>\n",
              "<table border=\"1\" class=\"dataframe\">\n",
              "  <thead>\n",
              "    <tr style=\"text-align: right;\">\n",
              "      <th></th>\n",
              "      <th>fixed acidity</th>\n",
              "      <th>volatile acidity</th>\n",
              "      <th>citric acid</th>\n",
              "      <th>residual sugar</th>\n",
              "      <th>chlorides</th>\n",
              "      <th>free sulfur dioxide</th>\n",
              "      <th>total sulfur dioxide</th>\n",
              "      <th>density</th>\n",
              "      <th>pH</th>\n",
              "      <th>sulphates</th>\n",
              "      <th>alcohol</th>\n",
              "      <th>quality</th>\n",
              "    </tr>\n",
              "  </thead>\n",
              "  <tbody>\n",
              "    <tr>\n",
              "      <th>0</th>\n",
              "      <td>7.4</td>\n",
              "      <td>0.70</td>\n",
              "      <td>0.00</td>\n",
              "      <td>1.9</td>\n",
              "      <td>0.076</td>\n",
              "      <td>11.0</td>\n",
              "      <td>34.0</td>\n",
              "      <td>0.9978</td>\n",
              "      <td>3.51</td>\n",
              "      <td>0.56</td>\n",
              "      <td>9.4</td>\n",
              "      <td>5</td>\n",
              "    </tr>\n",
              "    <tr>\n",
              "      <th>1</th>\n",
              "      <td>7.8</td>\n",
              "      <td>0.88</td>\n",
              "      <td>0.00</td>\n",
              "      <td>2.6</td>\n",
              "      <td>0.098</td>\n",
              "      <td>25.0</td>\n",
              "      <td>67.0</td>\n",
              "      <td>0.9968</td>\n",
              "      <td>3.20</td>\n",
              "      <td>0.68</td>\n",
              "      <td>9.8</td>\n",
              "      <td>5</td>\n",
              "    </tr>\n",
              "    <tr>\n",
              "      <th>2</th>\n",
              "      <td>7.8</td>\n",
              "      <td>0.76</td>\n",
              "      <td>0.04</td>\n",
              "      <td>2.3</td>\n",
              "      <td>0.092</td>\n",
              "      <td>15.0</td>\n",
              "      <td>54.0</td>\n",
              "      <td>0.9970</td>\n",
              "      <td>3.26</td>\n",
              "      <td>0.65</td>\n",
              "      <td>9.8</td>\n",
              "      <td>5</td>\n",
              "    </tr>\n",
              "    <tr>\n",
              "      <th>3</th>\n",
              "      <td>11.2</td>\n",
              "      <td>0.28</td>\n",
              "      <td>0.56</td>\n",
              "      <td>1.9</td>\n",
              "      <td>0.075</td>\n",
              "      <td>17.0</td>\n",
              "      <td>60.0</td>\n",
              "      <td>0.9980</td>\n",
              "      <td>3.16</td>\n",
              "      <td>0.58</td>\n",
              "      <td>9.8</td>\n",
              "      <td>6</td>\n",
              "    </tr>\n",
              "    <tr>\n",
              "      <th>4</th>\n",
              "      <td>7.4</td>\n",
              "      <td>0.70</td>\n",
              "      <td>0.00</td>\n",
              "      <td>1.9</td>\n",
              "      <td>0.076</td>\n",
              "      <td>11.0</td>\n",
              "      <td>34.0</td>\n",
              "      <td>0.9978</td>\n",
              "      <td>3.51</td>\n",
              "      <td>0.56</td>\n",
              "      <td>9.4</td>\n",
              "      <td>5</td>\n",
              "    </tr>\n",
              "  </tbody>\n",
              "</table>\n",
              "</div>"
            ],
            "text/plain": [
              "   fixed acidity  volatile acidity  citric acid  ...  sulphates  alcohol  quality\n",
              "0            7.4              0.70         0.00  ...       0.56      9.4        5\n",
              "1            7.8              0.88         0.00  ...       0.68      9.8        5\n",
              "2            7.8              0.76         0.04  ...       0.65      9.8        5\n",
              "3           11.2              0.28         0.56  ...       0.58      9.8        6\n",
              "4            7.4              0.70         0.00  ...       0.56      9.4        5\n",
              "\n",
              "[5 rows x 12 columns]"
            ]
          },
          "metadata": {
            "tags": []
          },
          "execution_count": 5
        }
      ]
    },
    {
      "cell_type": "code",
      "metadata": {
        "id": "0r8kOyPpY30q",
        "outputId": "9846f8c5-c117-43a1-e46a-b76cec2f21f8",
        "colab": {
          "base_uri": "https://localhost:8080/",
          "height": 405
        }
      },
      "source": [
        "wine_df.describe().transpose()"
      ],
      "execution_count": null,
      "outputs": [
        {
          "output_type": "execute_result",
          "data": {
            "text/html": [
              "<div>\n",
              "<style scoped>\n",
              "    .dataframe tbody tr th:only-of-type {\n",
              "        vertical-align: middle;\n",
              "    }\n",
              "\n",
              "    .dataframe tbody tr th {\n",
              "        vertical-align: top;\n",
              "    }\n",
              "\n",
              "    .dataframe thead th {\n",
              "        text-align: right;\n",
              "    }\n",
              "</style>\n",
              "<table border=\"1\" class=\"dataframe\">\n",
              "  <thead>\n",
              "    <tr style=\"text-align: right;\">\n",
              "      <th></th>\n",
              "      <th>count</th>\n",
              "      <th>mean</th>\n",
              "      <th>std</th>\n",
              "      <th>min</th>\n",
              "      <th>25%</th>\n",
              "      <th>50%</th>\n",
              "      <th>75%</th>\n",
              "      <th>max</th>\n",
              "    </tr>\n",
              "  </thead>\n",
              "  <tbody>\n",
              "    <tr>\n",
              "      <th>fixed acidity</th>\n",
              "      <td>1599.0</td>\n",
              "      <td>8.319637</td>\n",
              "      <td>1.741096</td>\n",
              "      <td>4.60000</td>\n",
              "      <td>7.1000</td>\n",
              "      <td>7.90000</td>\n",
              "      <td>9.200000</td>\n",
              "      <td>15.90000</td>\n",
              "    </tr>\n",
              "    <tr>\n",
              "      <th>volatile acidity</th>\n",
              "      <td>1599.0</td>\n",
              "      <td>0.527821</td>\n",
              "      <td>0.179060</td>\n",
              "      <td>0.12000</td>\n",
              "      <td>0.3900</td>\n",
              "      <td>0.52000</td>\n",
              "      <td>0.640000</td>\n",
              "      <td>1.58000</td>\n",
              "    </tr>\n",
              "    <tr>\n",
              "      <th>citric acid</th>\n",
              "      <td>1599.0</td>\n",
              "      <td>0.270976</td>\n",
              "      <td>0.194801</td>\n",
              "      <td>0.00000</td>\n",
              "      <td>0.0900</td>\n",
              "      <td>0.26000</td>\n",
              "      <td>0.420000</td>\n",
              "      <td>1.00000</td>\n",
              "    </tr>\n",
              "    <tr>\n",
              "      <th>residual sugar</th>\n",
              "      <td>1599.0</td>\n",
              "      <td>2.538806</td>\n",
              "      <td>1.409928</td>\n",
              "      <td>0.90000</td>\n",
              "      <td>1.9000</td>\n",
              "      <td>2.20000</td>\n",
              "      <td>2.600000</td>\n",
              "      <td>15.50000</td>\n",
              "    </tr>\n",
              "    <tr>\n",
              "      <th>chlorides</th>\n",
              "      <td>1599.0</td>\n",
              "      <td>0.087467</td>\n",
              "      <td>0.047065</td>\n",
              "      <td>0.01200</td>\n",
              "      <td>0.0700</td>\n",
              "      <td>0.07900</td>\n",
              "      <td>0.090000</td>\n",
              "      <td>0.61100</td>\n",
              "    </tr>\n",
              "    <tr>\n",
              "      <th>free sulfur dioxide</th>\n",
              "      <td>1599.0</td>\n",
              "      <td>15.874922</td>\n",
              "      <td>10.460157</td>\n",
              "      <td>1.00000</td>\n",
              "      <td>7.0000</td>\n",
              "      <td>14.00000</td>\n",
              "      <td>21.000000</td>\n",
              "      <td>72.00000</td>\n",
              "    </tr>\n",
              "    <tr>\n",
              "      <th>total sulfur dioxide</th>\n",
              "      <td>1599.0</td>\n",
              "      <td>46.467792</td>\n",
              "      <td>32.895324</td>\n",
              "      <td>6.00000</td>\n",
              "      <td>22.0000</td>\n",
              "      <td>38.00000</td>\n",
              "      <td>62.000000</td>\n",
              "      <td>289.00000</td>\n",
              "    </tr>\n",
              "    <tr>\n",
              "      <th>density</th>\n",
              "      <td>1599.0</td>\n",
              "      <td>0.996747</td>\n",
              "      <td>0.001887</td>\n",
              "      <td>0.99007</td>\n",
              "      <td>0.9956</td>\n",
              "      <td>0.99675</td>\n",
              "      <td>0.997835</td>\n",
              "      <td>1.00369</td>\n",
              "    </tr>\n",
              "    <tr>\n",
              "      <th>pH</th>\n",
              "      <td>1599.0</td>\n",
              "      <td>3.311113</td>\n",
              "      <td>0.154386</td>\n",
              "      <td>2.74000</td>\n",
              "      <td>3.2100</td>\n",
              "      <td>3.31000</td>\n",
              "      <td>3.400000</td>\n",
              "      <td>4.01000</td>\n",
              "    </tr>\n",
              "    <tr>\n",
              "      <th>sulphates</th>\n",
              "      <td>1599.0</td>\n",
              "      <td>0.658149</td>\n",
              "      <td>0.169507</td>\n",
              "      <td>0.33000</td>\n",
              "      <td>0.5500</td>\n",
              "      <td>0.62000</td>\n",
              "      <td>0.730000</td>\n",
              "      <td>2.00000</td>\n",
              "    </tr>\n",
              "    <tr>\n",
              "      <th>alcohol</th>\n",
              "      <td>1599.0</td>\n",
              "      <td>10.422983</td>\n",
              "      <td>1.065668</td>\n",
              "      <td>8.40000</td>\n",
              "      <td>9.5000</td>\n",
              "      <td>10.20000</td>\n",
              "      <td>11.100000</td>\n",
              "      <td>14.90000</td>\n",
              "    </tr>\n",
              "    <tr>\n",
              "      <th>quality</th>\n",
              "      <td>1599.0</td>\n",
              "      <td>5.636023</td>\n",
              "      <td>0.807569</td>\n",
              "      <td>3.00000</td>\n",
              "      <td>5.0000</td>\n",
              "      <td>6.00000</td>\n",
              "      <td>6.000000</td>\n",
              "      <td>8.00000</td>\n",
              "    </tr>\n",
              "  </tbody>\n",
              "</table>\n",
              "</div>"
            ],
            "text/plain": [
              "                       count       mean  ...        75%        max\n",
              "fixed acidity         1599.0   8.319637  ...   9.200000   15.90000\n",
              "volatile acidity      1599.0   0.527821  ...   0.640000    1.58000\n",
              "citric acid           1599.0   0.270976  ...   0.420000    1.00000\n",
              "residual sugar        1599.0   2.538806  ...   2.600000   15.50000\n",
              "chlorides             1599.0   0.087467  ...   0.090000    0.61100\n",
              "free sulfur dioxide   1599.0  15.874922  ...  21.000000   72.00000\n",
              "total sulfur dioxide  1599.0  46.467792  ...  62.000000  289.00000\n",
              "density               1599.0   0.996747  ...   0.997835    1.00369\n",
              "pH                    1599.0   3.311113  ...   3.400000    4.01000\n",
              "sulphates             1599.0   0.658149  ...   0.730000    2.00000\n",
              "alcohol               1599.0  10.422983  ...  11.100000   14.90000\n",
              "quality               1599.0   5.636023  ...   6.000000    8.00000\n",
              "\n",
              "[12 rows x 8 columns]"
            ]
          },
          "metadata": {
            "tags": []
          },
          "execution_count": 60
        }
      ]
    },
    {
      "cell_type": "code",
      "metadata": {
        "id": "cbBPK0VThCd4",
        "outputId": "d93f1d56-0335-4437-a52d-899910150aaa",
        "colab": {
          "base_uri": "https://localhost:8080/",
          "height": 348
        }
      },
      "source": [
        "wine_df.info()"
      ],
      "execution_count": null,
      "outputs": [
        {
          "output_type": "stream",
          "text": [
            "<class 'pandas.core.frame.DataFrame'>\n",
            "RangeIndex: 1599 entries, 0 to 1598\n",
            "Data columns (total 12 columns):\n",
            " #   Column                Non-Null Count  Dtype  \n",
            "---  ------                --------------  -----  \n",
            " 0   fixed acidity         1599 non-null   float64\n",
            " 1   volatile acidity      1599 non-null   float64\n",
            " 2   citric acid           1599 non-null   float64\n",
            " 3   residual sugar        1599 non-null   float64\n",
            " 4   chlorides             1599 non-null   float64\n",
            " 5   free sulfur dioxide   1599 non-null   float64\n",
            " 6   total sulfur dioxide  1599 non-null   float64\n",
            " 7   density               1599 non-null   float64\n",
            " 8   pH                    1599 non-null   float64\n",
            " 9   sulphates             1599 non-null   float64\n",
            " 10  alcohol               1599 non-null   float64\n",
            " 11  quality               1599 non-null   int64  \n",
            "dtypes: float64(11), int64(1)\n",
            "memory usage: 150.0 KB\n"
          ],
          "name": "stdout"
        }
      ]
    },
    {
      "cell_type": "markdown",
      "metadata": {
        "id": "7IQNmsSuqMdi"
      },
      "source": [
        "## Feature Visualization"
      ]
    },
    {
      "cell_type": "code",
      "metadata": {
        "id": "9ZeX2EeRy3Yc",
        "outputId": "d605d0cc-fb1c-40a0-a0cb-3f7f3fc6a053",
        "colab": {
          "base_uri": "https://localhost:8080/",
          "height": 365
        }
      },
      "source": [
        "# Visualize the label distribustion first\n",
        "sns.set(style=\"ticks\", color_codes=True)\n",
        "\n",
        "sns.catplot(x=\"quality\", kind=\"count\", palette=\"ch:.25\", data=wine_df);"
      ],
      "execution_count": null,
      "outputs": [
        {
          "output_type": "display_data",
          "data": {
            "image/png": "[encoded data removed]",
            "text/plain": [
              "<Figure size 360x360 with 1 Axes>"
            ]
          },
          "metadata": {
            "tags": []
          }
        }
      ]
    },
    {
      "cell_type": "markdown",
      "metadata": {
        "id": "yRyeZ3iX6MZR"
      },
      "source": [
        "Note that the classes are pretty unenvenly distributed. There are much more normal wines than excellent or poor ones (Need to research more on how to deal with situation). In general seems we got 6 categaories in here from grading 3 - 8."
      ]
    },
    {
      "cell_type": "code",
      "metadata": {
        "id": "C-n3hUUzy3dL",
        "outputId": "bb37c38a-2a6c-4083-d229-e3127d398a37",
        "colab": {
          "base_uri": "https://localhost:8080/",
          "height": 430
        }
      },
      "source": [
        "corr = wine_df.corr(method = 'pearson')\n",
        "f, ax = plt.subplots(figsize=(6, 5))\n",
        "cmap = sns.diverging_palette(10, 275, as_cmap=True)\n",
        "\n",
        "sns.heatmap(corr, cmap=cmap, square=True,\n",
        "            linewidths=0.5, cbar_kws={\"shrink\": 0.5}, ax=ax)"
      ],
      "execution_count": null,
      "outputs": [
        {
          "output_type": "execute_result",
          "data": {
            "text/plain": [
              "<matplotlib.axes._subplots.AxesSubplot at 0x7f8a150f0828>"
            ]
          },
          "metadata": {
            "tags": []
          },
          "execution_count": 63
        },
        {
          "output_type": "display_data",
          "data": {
            "image/png": "[encoded data removed]",
            "text/plain": [
              "<Figure size 432x360 with 2 Axes>"
            ]
          },
          "metadata": {
            "tags": []
          }
        }
      ]
    },
    {
      "cell_type": "markdown",
      "metadata": {
        "id": "4zXMUm3naSLj"
      },
      "source": [
        "Seems PH and fixed acidity, citric acid and PH/volatile acidity have high negtive correlation. Later we can consider to combine these features or pick only one. However, for now let's get something quick and dirty working first."
      ]
    },
    {
      "cell_type": "code",
      "metadata": {
        "id": "h3tFB_Nhy3jI",
        "outputId": "318bd617-1457-4c78-9fb6-5ae82f70ea9e",
        "colab": {
          "base_uri": "https://localhost:8080/",
          "height": 302
        }
      },
      "source": [
        "# Visualize the distribution of citric acid since previously apply .describe() on wine_df citric acid has a minimum of 0\n",
        "citric_acid = pd.Series(wine_df.loc[:,'citric acid'])\n",
        "sns.distplot(citric_acid)"
      ],
      "execution_count": null,
      "outputs": [
        {
          "output_type": "execute_result",
          "data": {
            "text/plain": [
              "<matplotlib.axes._subplots.AxesSubplot at 0x7f8a198e1f28>"
            ]
          },
          "metadata": {
            "tags": []
          },
          "execution_count": 64
        },
        {
          "output_type": "display_data",
          "data": {
            "image/png": "[encoded data removed]",
            "text/plain": [
              "<Figure size 432x288 with 1 Axes>"
            ]
          },
          "metadata": {
            "tags": []
          }
        }
      ]
    },
    {
      "cell_type": "markdown",
      "metadata": {
        "id": "Wfe6dW41dIBq"
      },
      "source": [
        "Not sure if citric acid = 0 is valid or not. But from the histogram chart above we observe there're lots of data that has = 0 citric acid so let's assume it's valid in here since the distribution curve is smooth."
      ]
    },
    {
      "cell_type": "markdown",
      "metadata": {
        "id": "bkZTlat0qRv8"
      },
      "source": [
        "## Data Preprocessing (Feature Scaling)"
      ]
    },
    {
      "cell_type": "markdown",
      "metadata": {
        "id": "AhSpdQWeSsFh"
      },
      "source": [
        "### Encoding the 'quality' col\n"
      ]
    },
    {
      "cell_type": "code",
      "metadata": {
        "id": "Hg9jOs8hlB_D",
        "outputId": "467fc860-13da-483a-c0ac-14711ac753b6",
        "colab": {
          "base_uri": "https://localhost:8080/",
          "height": 139
        }
      },
      "source": [
        "wine_df['quality'].value_counts()"
      ],
      "execution_count": null,
      "outputs": [
        {
          "output_type": "execute_result",
          "data": {
            "text/plain": [
              "5    681\n",
              "6    638\n",
              "7    199\n",
              "4     53\n",
              "8     18\n",
              "3     10\n",
              "Name: quality, dtype: int64"
            ]
          },
          "metadata": {
            "tags": []
          },
          "execution_count": 65
        }
      ]
    },
    {
      "cell_type": "code",
      "metadata": {
        "id": "T0WsuSxheSz6"
      },
      "source": [
        "# Making binary classificaion for the response variable.\n",
        "# Dividing wine as good and bad by giving the limit for the quality\n",
        "bins = (2, 6, 8)\n",
        "group_names = ['bad', 'good']\n",
        "wine_df['quality'] = pd.cut(wine_df['quality'], bins = bins, labels = group_names)"
      ],
      "execution_count": null,
      "outputs": []
    },
    {
      "cell_type": "code",
      "metadata": {
        "id": "1HhZQcs7fSIj",
        "outputId": "cae75ef8-8536-4b6e-e453-f3f9c77b5149",
        "colab": {
          "base_uri": "https://localhost:8080/",
          "height": 213
        }
      },
      "source": [
        "wine_df.head()"
      ],
      "execution_count": null,
      "outputs": [
        {
          "output_type": "execute_result",
          "data": {
            "text/html": [
              "<div>\n",
              "<style scoped>\n",
              "    .dataframe tbody tr th:only-of-type {\n",
              "        vertical-align: middle;\n",
              "    }\n",
              "\n",
              "    .dataframe tbody tr th {\n",
              "        vertical-align: top;\n",
              "    }\n",
              "\n",
              "    .dataframe thead th {\n",
              "        text-align: right;\n",
              "    }\n",
              "</style>\n",
              "<table border=\"1\" class=\"dataframe\">\n",
              "  <thead>\n",
              "    <tr style=\"text-align: right;\">\n",
              "      <th></th>\n",
              "      <th>fixed acidity</th>\n",
              "      <th>volatile acidity</th>\n",
              "      <th>citric acid</th>\n",
              "      <th>residual sugar</th>\n",
              "      <th>chlorides</th>\n",
              "      <th>free sulfur dioxide</th>\n",
              "      <th>total sulfur dioxide</th>\n",
              "      <th>density</th>\n",
              "      <th>pH</th>\n",
              "      <th>sulphates</th>\n",
              "      <th>alcohol</th>\n",
              "      <th>quality</th>\n",
              "    </tr>\n",
              "  </thead>\n",
              "  <tbody>\n",
              "    <tr>\n",
              "      <th>0</th>\n",
              "      <td>7.4</td>\n",
              "      <td>0.70</td>\n",
              "      <td>0.00</td>\n",
              "      <td>1.9</td>\n",
              "      <td>0.076</td>\n",
              "      <td>11.0</td>\n",
              "      <td>34.0</td>\n",
              "      <td>0.9978</td>\n",
              "      <td>3.51</td>\n",
              "      <td>0.56</td>\n",
              "      <td>9.4</td>\n",
              "      <td>bad</td>\n",
              "    </tr>\n",
              "    <tr>\n",
              "      <th>1</th>\n",
              "      <td>7.8</td>\n",
              "      <td>0.88</td>\n",
              "      <td>0.00</td>\n",
              "      <td>2.6</td>\n",
              "      <td>0.098</td>\n",
              "      <td>25.0</td>\n",
              "      <td>67.0</td>\n",
              "      <td>0.9968</td>\n",
              "      <td>3.20</td>\n",
              "      <td>0.68</td>\n",
              "      <td>9.8</td>\n",
              "      <td>bad</td>\n",
              "    </tr>\n",
              "    <tr>\n",
              "      <th>2</th>\n",
              "      <td>7.8</td>\n",
              "      <td>0.76</td>\n",
              "      <td>0.04</td>\n",
              "      <td>2.3</td>\n",
              "      <td>0.092</td>\n",
              "      <td>15.0</td>\n",
              "      <td>54.0</td>\n",
              "      <td>0.9970</td>\n",
              "      <td>3.26</td>\n",
              "      <td>0.65</td>\n",
              "      <td>9.8</td>\n",
              "      <td>bad</td>\n",
              "    </tr>\n",
              "    <tr>\n",
              "      <th>3</th>\n",
              "      <td>11.2</td>\n",
              "      <td>0.28</td>\n",
              "      <td>0.56</td>\n",
              "      <td>1.9</td>\n",
              "      <td>0.075</td>\n",
              "      <td>17.0</td>\n",
              "      <td>60.0</td>\n",
              "      <td>0.9980</td>\n",
              "      <td>3.16</td>\n",
              "      <td>0.58</td>\n",
              "      <td>9.8</td>\n",
              "      <td>bad</td>\n",
              "    </tr>\n",
              "    <tr>\n",
              "      <th>4</th>\n",
              "      <td>7.4</td>\n",
              "      <td>0.70</td>\n",
              "      <td>0.00</td>\n",
              "      <td>1.9</td>\n",
              "      <td>0.076</td>\n",
              "      <td>11.0</td>\n",
              "      <td>34.0</td>\n",
              "      <td>0.9978</td>\n",
              "      <td>3.51</td>\n",
              "      <td>0.56</td>\n",
              "      <td>9.4</td>\n",
              "      <td>bad</td>\n",
              "    </tr>\n",
              "  </tbody>\n",
              "</table>\n",
              "</div>"
            ],
            "text/plain": [
              "   fixed acidity  volatile acidity  citric acid  ...  sulphates  alcohol  quality\n",
              "0            7.4              0.70         0.00  ...       0.56      9.4      bad\n",
              "1            7.8              0.88         0.00  ...       0.68      9.8      bad\n",
              "2            7.8              0.76         0.04  ...       0.65      9.8      bad\n",
              "3           11.2              0.28         0.56  ...       0.58      9.8      bad\n",
              "4            7.4              0.70         0.00  ...       0.56      9.4      bad\n",
              "\n",
              "[5 rows x 12 columns]"
            ]
          },
          "metadata": {
            "tags": []
          },
          "execution_count": 67
        }
      ]
    },
    {
      "cell_type": "code",
      "metadata": {
        "id": "-rIjKEYhlRAR",
        "outputId": "de5530c3-cb81-4bc9-edcb-59b19706b389",
        "colab": {
          "base_uri": "https://localhost:8080/",
          "height": 69
        }
      },
      "source": [
        "#Now lets assign a labels to our quality variable\n",
        "from sklearn.preprocessing import LabelEncoder\n",
        "label_quality = LabelEncoder()\n",
        "\n",
        "#Bad becomes 0 and good becomes 1 \n",
        "wine_df['quality'] = label_quality.fit_transform(wine_df['quality'])\n",
        "wine_df['quality'].value_counts()"
      ],
      "execution_count": null,
      "outputs": [
        {
          "output_type": "execute_result",
          "data": {
            "text/plain": [
              "0    1382\n",
              "1     217\n",
              "Name: quality, dtype: int64"
            ]
          },
          "metadata": {
            "tags": []
          },
          "execution_count": 68
        }
      ]
    },
    {
      "cell_type": "code",
      "metadata": {
        "id": "i-GTta-4mtN4"
      },
      "source": [
        "# .values Return a Numpy representation of the DataFrame\n",
        "X = wine_df.iloc[:, :-1].values\n",
        "y = wine_df.iloc[:, -1].values"
      ],
      "execution_count": null,
      "outputs": []
    },
    {
      "cell_type": "markdown",
      "metadata": {
        "id": "2EeCndG0nNQ0"
      },
      "source": [
        "### Splitting into Training/Test Sets"
      ]
    },
    {
      "cell_type": "code",
      "metadata": {
        "id": "PJeqg3Jblrd7",
        "outputId": "f5f8126e-3d93-4b8a-a251-4984b717fd48",
        "colab": {
          "base_uri": "https://localhost:8080/",
          "height": 139
        }
      },
      "source": [
        "from sklearn.model_selection import train_test_split\n",
        "X_train, X_test, y_train, y_test = train_test_split(X, y, test_size = 0.2, random_state = 1)\n",
        "print(X_train)"
      ],
      "execution_count": null,
      "outputs": [
        {
          "output_type": "stream",
          "text": [
            "[[ 7.     0.65   0.02  ...  3.47   0.67   9.5  ]\n",
            " [10.2    0.42   0.57  ...  3.04   0.63   9.6  ]\n",
            " [ 5.2    0.34   0.    ...  3.68   0.79  14.   ]\n",
            " ...\n",
            " [ 6.6    0.725  0.09  ...  3.35   0.49  10.8  ]\n",
            " [ 7.2    0.63   0.    ...  3.37   0.58   9.   ]\n",
            " [ 9.1    0.4    0.5   ...  3.21   0.69  12.5  ]]\n"
          ],
          "name": "stdout"
        }
      ]
    },
    {
      "cell_type": "markdown",
      "metadata": {
        "id": "bxJpa7W3lxnf"
      },
      "source": [
        "### Feature Scaling"
      ]
    },
    {
      "cell_type": "code",
      "metadata": {
        "id": "uQmjEYvwnT5x"
      },
      "source": [
        "from sklearn.preprocessing import StandardScaler\n",
        "scaler = StandardScaler()\n",
        "\n",
        "# fit_tranform call .fit() to compute the mean and std deviation for later use \n",
        "X_train = scaler.fit_transform(X_train)\n",
        "# No need to call fit_transform again since the params have been computed in the previous line\n",
        "X_test = scaler.transform(X_test)"
      ],
      "execution_count": null,
      "outputs": []
    },
    {
      "cell_type": "code",
      "metadata": {
        "id": "_ovJc-3inUAj",
        "outputId": "86cfdf58-60ec-438b-9f4f-44a553b001e2",
        "colab": {
          "base_uri": "https://localhost:8080/",
          "height": 244
        }
      },
      "source": [
        "print(X_train)"
      ],
      "execution_count": null,
      "outputs": [
        {
          "output_type": "stream",
          "text": [
            "[[-0.73307913  0.6648928  -1.25704443 ...  0.98846046  0.0630946\n",
            "  -0.87223395]\n",
            " [ 1.06774091 -0.62346154  1.52314768 ... -1.7535127  -0.17390392\n",
            "  -0.77978452]\n",
            " [-1.74604041 -1.07158479 -1.35814232 ...  2.32756363  0.77409018\n",
            "   3.28799021]\n",
            " ...\n",
            " [-0.95818164  1.08500835 -0.90320179 ...  0.22325865 -1.00339876\n",
            "   0.32960859]\n",
            " [-0.62052788  0.55286199 -1.35814232 ...  0.35079228 -0.47015208\n",
            "  -1.33448108]\n",
            " [ 0.44870902 -0.73549236  1.16930505 ... -0.6694768   0.18159387\n",
            "   1.90124882]]\n"
          ],
          "name": "stdout"
        }
      ]
    },
    {
      "cell_type": "markdown",
      "metadata": {
        "id": "k9decHRqpT0T"
      },
      "source": [
        "## Train Logistic Regression Model"
      ]
    },
    {
      "cell_type": "code",
      "metadata": {
        "id": "5MvPQyfupULK"
      },
      "source": [
        "from sklearn.linear_model import LogisticRegression\n",
        "\n",
        "def train_logistic_regression():\n",
        "  # No params are passing in here into the LogisticRegression class (i.e. no tuning)\n",
        "  classifier = LogisticRegression(random_state = 0);\n",
        "  classifier.fit(X_train, y_train)\n",
        "  return classifier"
      ],
      "execution_count": null,
      "outputs": []
    },
    {
      "cell_type": "code",
      "metadata": {
        "id": "g1h5XMe-pUOW"
      },
      "source": [
        "classifier = train_logistic_regression()"
      ],
      "execution_count": null,
      "outputs": []
    },
    {
      "cell_type": "markdown",
      "metadata": {
        "id": "_T8ybbcgqfQr"
      },
      "source": [
        "## Predicting the Test Set Results"
      ]
    },
    {
      "cell_type": "code",
      "metadata": {
        "id": "CHoiwwNbpURF",
        "outputId": "b1c58334-4a8c-4bd6-de3e-83f4a5ceca05",
        "colab": {
          "base_uri": "https://localhost:8080/",
          "height": 209
        }
      },
      "source": [
        "# Predit the test data\n",
        "y_pred = classifier.predict(X_test)\n",
        "\n",
        "# Reshape both y_pred & y_test from col vectors to row vectors\n",
        "y_pred_reshaped = y_pred.reshape(len(y_pred),1)\n",
        "y_test_reshaped = y_test.reshape(len(y_test),1)\n",
        "print('Predicted  Test')\n",
        "\n",
        "# Print out the first 10 results\n",
        "print(np.concatenate((y_pred_reshaped[:10], y_test_reshaped[:10]),1))"
      ],
      "execution_count": null,
      "outputs": [
        {
          "output_type": "stream",
          "text": [
            "Predicted  Test\n",
            "[[0 0]\n",
            " [0 0]\n",
            " [0 0]\n",
            " [0 0]\n",
            " [1 0]\n",
            " [0 0]\n",
            " [0 0]\n",
            " [0 0]\n",
            " [0 0]\n",
            " [0 0]]\n"
          ],
          "name": "stdout"
        }
      ]
    },
    {
      "cell_type": "markdown",
      "metadata": {
        "id": "qF2vqTEovnSU"
      },
      "source": [
        "## Making the confusion Matrix"
      ]
    },
    {
      "cell_type": "code",
      "metadata": {
        "id": "kq1h91c8sM_a",
        "outputId": "bdf5202c-75ca-4f30-d29f-434e13cf1579",
        "colab": {
          "base_uri": "https://localhost:8080/",
          "height": 52
        }
      },
      "source": [
        "from sklearn.metrics import confusion_matrix\n",
        "def make_confusion_matrix(y_test, y_pred):\n",
        "  return confusion_matrix(y_test, y_pred)\n",
        "\n",
        "confusion = make_confusion_matrix(y_test, y_pred)\n",
        "print(confusion)\n",
        "\n",
        "#compute recall & precision & f score"
      ],
      "execution_count": null,
      "outputs": [
        {
          "output_type": "stream",
          "text": [
            "[[276  12]\n",
            " [ 25   7]]\n"
          ],
          "name": "stdout"
        }
      ]
    }
  ]
}